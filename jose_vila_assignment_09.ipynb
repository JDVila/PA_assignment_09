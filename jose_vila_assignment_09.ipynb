{
 "cells": [
  {
   "cell_type": "markdown",
   "id": "aefc428a",
   "metadata": {},
   "source": [
    "# PA_assignment_09"
   ]
  },
  {
   "cell_type": "code",
   "execution_count": 1,
   "id": "fbd9bf8b",
   "metadata": {},
   "outputs": [],
   "source": [
    "%matplotlib notebook"
   ]
  },
  {
   "cell_type": "code",
   "execution_count": 2,
   "id": "27391140",
   "metadata": {},
   "outputs": [],
   "source": [
    "import numpy as np"
   ]
  },
  {
   "cell_type": "code",
   "execution_count": 3,
   "id": "d0a6390c",
   "metadata": {},
   "outputs": [],
   "source": [
    "import pandas as pd"
   ]
  },
  {
   "cell_type": "code",
   "execution_count": 4,
   "id": "9c88ceac",
   "metadata": {},
   "outputs": [],
   "source": [
    "import matplotlib.pyplot as plt"
   ]
  },
  {
   "cell_type": "code",
   "execution_count": 5,
   "id": "0d1c62c1",
   "metadata": {},
   "outputs": [],
   "source": [
    "import seaborn as sns"
   ]
  },
  {
   "cell_type": "code",
   "execution_count": 6,
   "id": "103ffa18",
   "metadata": {},
   "outputs": [],
   "source": [
    "from sklearn.model_selection import train_test_split"
   ]
  },
  {
   "cell_type": "code",
   "execution_count": 7,
   "id": "ab37f75f",
   "metadata": {},
   "outputs": [],
   "source": [
    "from sklearn.linear_model import LinearRegression"
   ]
  },
  {
   "cell_type": "code",
   "execution_count": 8,
   "id": "e43ea0d6",
   "metadata": {},
   "outputs": [],
   "source": [
    "import sklearn.metrics as metrics"
   ]
  },
  {
   "cell_type": "code",
   "execution_count": 9,
   "id": "351f3374",
   "metadata": {},
   "outputs": [],
   "source": [
    "from sklearn.neighbors import KNeighborsRegressor"
   ]
  },
  {
   "cell_type": "markdown",
   "id": "cdaaaf21",
   "metadata": {},
   "source": [
    "### Step 01 - Import and Clean / Format the Data"
   ]
  },
  {
   "cell_type": "code",
   "execution_count": 10,
   "id": "c7e3e788",
   "metadata": {},
   "outputs": [],
   "source": [
    "bike = pd.read_csv('04_2017_bike_data.csv')"
   ]
  },
  {
   "cell_type": "code",
   "execution_count": 11,
   "id": "d98d1512",
   "metadata": {},
   "outputs": [
    {
     "data": {
      "text/html": [
       "<div>\n",
       "<style scoped>\n",
       "    .dataframe tbody tr th:only-of-type {\n",
       "        vertical-align: middle;\n",
       "    }\n",
       "\n",
       "    .dataframe tbody tr th {\n",
       "        vertical-align: top;\n",
       "    }\n",
       "\n",
       "    .dataframe thead th {\n",
       "        text-align: right;\n",
       "    }\n",
       "</style>\n",
       "<table border=\"1\" class=\"dataframe\">\n",
       "  <thead>\n",
       "    <tr style=\"text-align: right;\">\n",
       "      <th></th>\n",
       "      <th>date</th>\n",
       "      <th>day</th>\n",
       "      <th>temp_high</th>\n",
       "      <th>temp_low</th>\n",
       "      <th>rain_amt</th>\n",
       "      <th>brooklyn_bridge</th>\n",
       "      <th>manhattan_bridge</th>\n",
       "      <th>williamsburg_bridge</th>\n",
       "      <th>queensboro_bridge</th>\n",
       "      <th>total_cyclists</th>\n",
       "      <th>Unnamed: 10</th>\n",
       "    </tr>\n",
       "  </thead>\n",
       "  <tbody>\n",
       "    <tr>\n",
       "      <th>0</th>\n",
       "      <td>1-Apr</td>\n",
       "      <td>Saturday</td>\n",
       "      <td>46.0</td>\n",
       "      <td>37.0</td>\n",
       "      <td>0</td>\n",
       "      <td>606</td>\n",
       "      <td>1,446</td>\n",
       "      <td>1,915</td>\n",
       "      <td>1,430</td>\n",
       "      <td>5,397</td>\n",
       "      <td>NaN</td>\n",
       "    </tr>\n",
       "    <tr>\n",
       "      <th>1</th>\n",
       "      <td>2-Apr</td>\n",
       "      <td>Sunday</td>\n",
       "      <td>62.1</td>\n",
       "      <td>41.0</td>\n",
       "      <td>0</td>\n",
       "      <td>2,021</td>\n",
       "      <td>3,943</td>\n",
       "      <td>4,207</td>\n",
       "      <td>2,862</td>\n",
       "      <td>13,033</td>\n",
       "      <td>NaN</td>\n",
       "    </tr>\n",
       "    <tr>\n",
       "      <th>2</th>\n",
       "      <td>3-Apr</td>\n",
       "      <td>Monday</td>\n",
       "      <td>63.0</td>\n",
       "      <td>50.0</td>\n",
       "      <td>0.03</td>\n",
       "      <td>2,470</td>\n",
       "      <td>4,988</td>\n",
       "      <td>5,178</td>\n",
       "      <td>3,689</td>\n",
       "      <td>16,325</td>\n",
       "      <td>NaN</td>\n",
       "    </tr>\n",
       "    <tr>\n",
       "      <th>3</th>\n",
       "      <td>4-Apr</td>\n",
       "      <td>Tuesday</td>\n",
       "      <td>51.1</td>\n",
       "      <td>46.0</td>\n",
       "      <td>1.18</td>\n",
       "      <td>723</td>\n",
       "      <td>1,913</td>\n",
       "      <td>2,279</td>\n",
       "      <td>1,666</td>\n",
       "      <td>6,581</td>\n",
       "      <td>NaN</td>\n",
       "    </tr>\n",
       "    <tr>\n",
       "      <th>4</th>\n",
       "      <td>5-Apr</td>\n",
       "      <td>Wednesday</td>\n",
       "      <td>63.0</td>\n",
       "      <td>46.0</td>\n",
       "      <td>0</td>\n",
       "      <td>2,807</td>\n",
       "      <td>5,276</td>\n",
       "      <td>5,711</td>\n",
       "      <td>4,197</td>\n",
       "      <td>17,991</td>\n",
       "      <td>NaN</td>\n",
       "    </tr>\n",
       "  </tbody>\n",
       "</table>\n",
       "</div>"
      ],
      "text/plain": [
       "    date        day  temp_high  temp_low rain_amt brooklyn_bridge  \\\n",
       "0  1-Apr   Saturday       46.0      37.0        0             606   \n",
       "1  2-Apr     Sunday       62.1      41.0        0           2,021   \n",
       "2  3-Apr     Monday       63.0      50.0     0.03           2,470   \n",
       "3  4-Apr    Tuesday       51.1      46.0     1.18             723   \n",
       "4  5-Apr  Wednesday       63.0      46.0        0           2,807   \n",
       "\n",
       "  manhattan_bridge williamsburg_bridge queensboro_bridge total_cyclists  \\\n",
       "0            1,446               1,915             1,430          5,397   \n",
       "1            3,943               4,207             2,862         13,033   \n",
       "2            4,988               5,178             3,689         16,325   \n",
       "3            1,913               2,279             1,666          6,581   \n",
       "4            5,276               5,711             4,197         17,991   \n",
       "\n",
       "  Unnamed: 10  \n",
       "0         NaN  \n",
       "1         NaN  \n",
       "2         NaN  \n",
       "3         NaN  \n",
       "4         NaN  "
      ]
     },
     "execution_count": 11,
     "metadata": {},
     "output_type": "execute_result"
    }
   ],
   "source": [
    "bike.head()"
   ]
  },
  {
   "cell_type": "code",
   "execution_count": 12,
   "id": "ca06cb57",
   "metadata": {},
   "outputs": [],
   "source": [
    "bike['date'] = bike['date'].str.replace('Apr', '3')"
   ]
  },
  {
   "cell_type": "code",
   "execution_count": 13,
   "id": "e41c6d03",
   "metadata": {},
   "outputs": [],
   "source": [
    "split_date = bike['date'].str.split('-', n=1, expand=True)"
   ]
  },
  {
   "cell_type": "code",
   "execution_count": 14,
   "id": "6aa91642",
   "metadata": {},
   "outputs": [],
   "source": [
    "split_date[0] = np.where(split_date[0].str.len() < 2, '0' + split_date[0], split_date[0])"
   ]
  },
  {
   "cell_type": "code",
   "execution_count": 15,
   "id": "53dc3e8a",
   "metadata": {},
   "outputs": [],
   "source": [
    "bike['date'] = split_date[1] + split_date[0]"
   ]
  },
  {
   "cell_type": "code",
   "execution_count": 16,
   "id": "132a4fa5",
   "metadata": {},
   "outputs": [
    {
     "data": {
      "text/html": [
       "<div>\n",
       "<style scoped>\n",
       "    .dataframe tbody tr th:only-of-type {\n",
       "        vertical-align: middle;\n",
       "    }\n",
       "\n",
       "    .dataframe tbody tr th {\n",
       "        vertical-align: top;\n",
       "    }\n",
       "\n",
       "    .dataframe thead th {\n",
       "        text-align: right;\n",
       "    }\n",
       "</style>\n",
       "<table border=\"1\" class=\"dataframe\">\n",
       "  <thead>\n",
       "    <tr style=\"text-align: right;\">\n",
       "      <th></th>\n",
       "      <th>date</th>\n",
       "      <th>day</th>\n",
       "      <th>temp_high</th>\n",
       "      <th>temp_low</th>\n",
       "      <th>rain_amt</th>\n",
       "      <th>brooklyn_bridge</th>\n",
       "      <th>manhattan_bridge</th>\n",
       "      <th>williamsburg_bridge</th>\n",
       "      <th>queensboro_bridge</th>\n",
       "      <th>total_cyclists</th>\n",
       "      <th>Unnamed: 10</th>\n",
       "    </tr>\n",
       "  </thead>\n",
       "  <tbody>\n",
       "    <tr>\n",
       "      <th>0</th>\n",
       "      <td>301</td>\n",
       "      <td>Saturday</td>\n",
       "      <td>46.0</td>\n",
       "      <td>37.0</td>\n",
       "      <td>0</td>\n",
       "      <td>606</td>\n",
       "      <td>1,446</td>\n",
       "      <td>1,915</td>\n",
       "      <td>1,430</td>\n",
       "      <td>5,397</td>\n",
       "      <td>NaN</td>\n",
       "    </tr>\n",
       "    <tr>\n",
       "      <th>1</th>\n",
       "      <td>302</td>\n",
       "      <td>Sunday</td>\n",
       "      <td>62.1</td>\n",
       "      <td>41.0</td>\n",
       "      <td>0</td>\n",
       "      <td>2,021</td>\n",
       "      <td>3,943</td>\n",
       "      <td>4,207</td>\n",
       "      <td>2,862</td>\n",
       "      <td>13,033</td>\n",
       "      <td>NaN</td>\n",
       "    </tr>\n",
       "    <tr>\n",
       "      <th>2</th>\n",
       "      <td>303</td>\n",
       "      <td>Monday</td>\n",
       "      <td>63.0</td>\n",
       "      <td>50.0</td>\n",
       "      <td>0.03</td>\n",
       "      <td>2,470</td>\n",
       "      <td>4,988</td>\n",
       "      <td>5,178</td>\n",
       "      <td>3,689</td>\n",
       "      <td>16,325</td>\n",
       "      <td>NaN</td>\n",
       "    </tr>\n",
       "    <tr>\n",
       "      <th>3</th>\n",
       "      <td>304</td>\n",
       "      <td>Tuesday</td>\n",
       "      <td>51.1</td>\n",
       "      <td>46.0</td>\n",
       "      <td>1.18</td>\n",
       "      <td>723</td>\n",
       "      <td>1,913</td>\n",
       "      <td>2,279</td>\n",
       "      <td>1,666</td>\n",
       "      <td>6,581</td>\n",
       "      <td>NaN</td>\n",
       "    </tr>\n",
       "    <tr>\n",
       "      <th>4</th>\n",
       "      <td>305</td>\n",
       "      <td>Wednesday</td>\n",
       "      <td>63.0</td>\n",
       "      <td>46.0</td>\n",
       "      <td>0</td>\n",
       "      <td>2,807</td>\n",
       "      <td>5,276</td>\n",
       "      <td>5,711</td>\n",
       "      <td>4,197</td>\n",
       "      <td>17,991</td>\n",
       "      <td>NaN</td>\n",
       "    </tr>\n",
       "    <tr>\n",
       "      <th>5</th>\n",
       "      <td>306</td>\n",
       "      <td>Thursday</td>\n",
       "      <td>48.9</td>\n",
       "      <td>41.0</td>\n",
       "      <td>0.73</td>\n",
       "      <td>461</td>\n",
       "      <td>1,324</td>\n",
       "      <td>1,739</td>\n",
       "      <td>1,372</td>\n",
       "      <td>4,896</td>\n",
       "      <td>NaN</td>\n",
       "    </tr>\n",
       "    <tr>\n",
       "      <th>6</th>\n",
       "      <td>307</td>\n",
       "      <td>Friday</td>\n",
       "      <td>48.0</td>\n",
       "      <td>43.0</td>\n",
       "      <td>T</td>\n",
       "      <td>1,222</td>\n",
       "      <td>2,955</td>\n",
       "      <td>3,399</td>\n",
       "      <td>2,765</td>\n",
       "      <td>10,341</td>\n",
       "      <td>NaN</td>\n",
       "    </tr>\n",
       "    <tr>\n",
       "      <th>7</th>\n",
       "      <td>308</td>\n",
       "      <td>Saturday</td>\n",
       "      <td>55.9</td>\n",
       "      <td>39.9</td>\n",
       "      <td>0</td>\n",
       "      <td>1,674</td>\n",
       "      <td>3,163</td>\n",
       "      <td>4,082</td>\n",
       "      <td>2,691</td>\n",
       "      <td>11,610</td>\n",
       "      <td>NaN</td>\n",
       "    </tr>\n",
       "    <tr>\n",
       "      <th>8</th>\n",
       "      <td>309</td>\n",
       "      <td>Sunday</td>\n",
       "      <td>66.0</td>\n",
       "      <td>45.0</td>\n",
       "      <td>0</td>\n",
       "      <td>2,375</td>\n",
       "      <td>4,377</td>\n",
       "      <td>4,886</td>\n",
       "      <td>3,261</td>\n",
       "      <td>14,899</td>\n",
       "      <td>NaN</td>\n",
       "    </tr>\n",
       "    <tr>\n",
       "      <th>9</th>\n",
       "      <td>310</td>\n",
       "      <td>Monday</td>\n",
       "      <td>73.9</td>\n",
       "      <td>55.0</td>\n",
       "      <td>0</td>\n",
       "      <td>3,324</td>\n",
       "      <td>6,359</td>\n",
       "      <td>6,881</td>\n",
       "      <td>4,731</td>\n",
       "      <td>21,295</td>\n",
       "      <td>NaN</td>\n",
       "    </tr>\n",
       "    <tr>\n",
       "      <th>10</th>\n",
       "      <td>311</td>\n",
       "      <td>Tuesday</td>\n",
       "      <td>80.1</td>\n",
       "      <td>62.1</td>\n",
       "      <td>0</td>\n",
       "      <td>3,887</td>\n",
       "      <td>7,247</td>\n",
       "      <td>8,079</td>\n",
       "      <td>5,501</td>\n",
       "      <td>24,714</td>\n",
       "      <td>NaN</td>\n",
       "    </tr>\n",
       "    <tr>\n",
       "      <th>11</th>\n",
       "      <td>312</td>\n",
       "      <td>Wednesday</td>\n",
       "      <td>73.9</td>\n",
       "      <td>57.9</td>\n",
       "      <td>0.02</td>\n",
       "      <td>2,565</td>\n",
       "      <td>5,633</td>\n",
       "      <td>6,620</td>\n",
       "      <td>4,537</td>\n",
       "      <td>19,355</td>\n",
       "      <td>NaN</td>\n",
       "    </tr>\n",
       "    <tr>\n",
       "      <th>12</th>\n",
       "      <td>313</td>\n",
       "      <td>Thursday</td>\n",
       "      <td>64.0</td>\n",
       "      <td>48.9</td>\n",
       "      <td>0</td>\n",
       "      <td>3,353</td>\n",
       "      <td>6,052</td>\n",
       "      <td>6,775</td>\n",
       "      <td>4,700</td>\n",
       "      <td>20,880</td>\n",
       "      <td>NaN</td>\n",
       "    </tr>\n",
       "    <tr>\n",
       "      <th>13</th>\n",
       "      <td>314</td>\n",
       "      <td>Friday</td>\n",
       "      <td>64.9</td>\n",
       "      <td>48.9</td>\n",
       "      <td>0</td>\n",
       "      <td>2,942</td>\n",
       "      <td>5,054</td>\n",
       "      <td>5,877</td>\n",
       "      <td>4,142</td>\n",
       "      <td>18,015</td>\n",
       "      <td>NaN</td>\n",
       "    </tr>\n",
       "    <tr>\n",
       "      <th>14</th>\n",
       "      <td>315</td>\n",
       "      <td>Saturday</td>\n",
       "      <td>64.9</td>\n",
       "      <td>52.0</td>\n",
       "      <td>0</td>\n",
       "      <td>2,253</td>\n",
       "      <td>3,853</td>\n",
       "      <td>4,965</td>\n",
       "      <td>3,291</td>\n",
       "      <td>14,362</td>\n",
       "      <td>NaN</td>\n",
       "    </tr>\n",
       "    <tr>\n",
       "      <th>15</th>\n",
       "      <td>316</td>\n",
       "      <td>Sunday</td>\n",
       "      <td>84.9</td>\n",
       "      <td>62.1</td>\n",
       "      <td>T</td>\n",
       "      <td>2,877</td>\n",
       "      <td>4,585</td>\n",
       "      <td>5,259</td>\n",
       "      <td>3,687</td>\n",
       "      <td>16,408</td>\n",
       "      <td>NaN</td>\n",
       "    </tr>\n",
       "    <tr>\n",
       "      <th>16</th>\n",
       "      <td>317</td>\n",
       "      <td>Monday</td>\n",
       "      <td>73.9</td>\n",
       "      <td>64.0</td>\n",
       "      <td>T</td>\n",
       "      <td>3,152</td>\n",
       "      <td>6,352</td>\n",
       "      <td>6,924</td>\n",
       "      <td>4,658</td>\n",
       "      <td>21,086</td>\n",
       "      <td>NaN</td>\n",
       "    </tr>\n",
       "    <tr>\n",
       "      <th>17</th>\n",
       "      <td>318</td>\n",
       "      <td>Tuesday</td>\n",
       "      <td>66.0</td>\n",
       "      <td>50.0</td>\n",
       "      <td>0</td>\n",
       "      <td>3,415</td>\n",
       "      <td>6,691</td>\n",
       "      <td>7,341</td>\n",
       "      <td>5,012</td>\n",
       "      <td>22,459</td>\n",
       "      <td>NaN</td>\n",
       "    </tr>\n",
       "    <tr>\n",
       "      <th>18</th>\n",
       "      <td>319</td>\n",
       "      <td>Wednesday</td>\n",
       "      <td>52.0</td>\n",
       "      <td>45.0</td>\n",
       "      <td>T</td>\n",
       "      <td>1,965</td>\n",
       "      <td>4,632</td>\n",
       "      <td>5,234</td>\n",
       "      <td>3,996</td>\n",
       "      <td>15,827</td>\n",
       "      <td></td>\n",
       "    </tr>\n",
       "    <tr>\n",
       "      <th>19</th>\n",
       "      <td>320</td>\n",
       "      <td>Thursday</td>\n",
       "      <td>64.9</td>\n",
       "      <td>50.0</td>\n",
       "      <td>0.17</td>\n",
       "      <td>1,567</td>\n",
       "      <td>3,365</td>\n",
       "      <td>4,302</td>\n",
       "      <td>3,056</td>\n",
       "      <td>12,290</td>\n",
       "      <td>NaN</td>\n",
       "    </tr>\n",
       "    <tr>\n",
       "      <th>20</th>\n",
       "      <td>321</td>\n",
       "      <td>Friday</td>\n",
       "      <td>53.1</td>\n",
       "      <td>48.0</td>\n",
       "      <td>0.29</td>\n",
       "      <td>1,426</td>\n",
       "      <td>3,142</td>\n",
       "      <td>3,674</td>\n",
       "      <td>2,672</td>\n",
       "      <td>10,914</td>\n",
       "      <td>NaN</td>\n",
       "    </tr>\n",
       "    <tr>\n",
       "      <th>21</th>\n",
       "      <td>322</td>\n",
       "      <td>Saturday</td>\n",
       "      <td>55.9</td>\n",
       "      <td>52.0</td>\n",
       "      <td>0.11</td>\n",
       "      <td>1,318</td>\n",
       "      <td>2,297</td>\n",
       "      <td>2,963</td>\n",
       "      <td>2,366</td>\n",
       "      <td>8,944</td>\n",
       "      <td>NaN</td>\n",
       "    </tr>\n",
       "    <tr>\n",
       "      <th>22</th>\n",
       "      <td>323</td>\n",
       "      <td>Sunday</td>\n",
       "      <td>64.9</td>\n",
       "      <td>46.9</td>\n",
       "      <td>0</td>\n",
       "      <td>2,520</td>\n",
       "      <td>4,681</td>\n",
       "      <td>5,105</td>\n",
       "      <td>3,434</td>\n",
       "      <td>15,740</td>\n",
       "      <td>NaN</td>\n",
       "    </tr>\n",
       "    <tr>\n",
       "      <th>23</th>\n",
       "      <td>324</td>\n",
       "      <td>Monday</td>\n",
       "      <td>60.1</td>\n",
       "      <td>50.0</td>\n",
       "      <td>T</td>\n",
       "      <td>2,544</td>\n",
       "      <td>5,366</td>\n",
       "      <td>5,762</td>\n",
       "      <td>4,183</td>\n",
       "      <td>17,855</td>\n",
       "      <td>NaN</td>\n",
       "    </tr>\n",
       "    <tr>\n",
       "      <th>24</th>\n",
       "      <td>325</td>\n",
       "      <td>Tuesday</td>\n",
       "      <td>54.0</td>\n",
       "      <td>50.0</td>\n",
       "      <td>0.91</td>\n",
       "      <td>611</td>\n",
       "      <td>1,402</td>\n",
       "      <td>1,902</td>\n",
       "      <td>1,578</td>\n",
       "      <td>5,493</td>\n",
       "      <td>NaN</td>\n",
       "    </tr>\n",
       "    <tr>\n",
       "      <th>25</th>\n",
       "      <td>326</td>\n",
       "      <td>Wednesday</td>\n",
       "      <td>59.0</td>\n",
       "      <td>54.0</td>\n",
       "      <td>0.34</td>\n",
       "      <td>1,247</td>\n",
       "      <td>2,774</td>\n",
       "      <td>3,429</td>\n",
       "      <td>2,369</td>\n",
       "      <td>9,819</td>\n",
       "      <td>NaN</td>\n",
       "    </tr>\n",
       "    <tr>\n",
       "      <th>26</th>\n",
       "      <td>327</td>\n",
       "      <td>Thursday</td>\n",
       "      <td>68.0</td>\n",
       "      <td>59.0</td>\n",
       "      <td>0</td>\n",
       "      <td>2,959</td>\n",
       "      <td>5,311</td>\n",
       "      <td>6,026</td>\n",
       "      <td>4,285</td>\n",
       "      <td>18,581</td>\n",
       "      <td>NaN</td>\n",
       "    </tr>\n",
       "    <tr>\n",
       "      <th>27</th>\n",
       "      <td>328</td>\n",
       "      <td>Friday</td>\n",
       "      <td>82.9</td>\n",
       "      <td>57.9</td>\n",
       "      <td>0</td>\n",
       "      <td>3,679</td>\n",
       "      <td>6,774</td>\n",
       "      <td>7,196</td>\n",
       "      <td>5,138</td>\n",
       "      <td>22,787</td>\n",
       "      <td>NaN</td>\n",
       "    </tr>\n",
       "    <tr>\n",
       "      <th>28</th>\n",
       "      <td>329</td>\n",
       "      <td>Saturday</td>\n",
       "      <td>84.0</td>\n",
       "      <td>64.0</td>\n",
       "      <td>0.06</td>\n",
       "      <td>3,315</td>\n",
       "      <td>5,605</td>\n",
       "      <td>6,045</td>\n",
       "      <td>4,078</td>\n",
       "      <td>19,043</td>\n",
       "      <td>NaN</td>\n",
       "    </tr>\n",
       "    <tr>\n",
       "      <th>29</th>\n",
       "      <td>330</td>\n",
       "      <td>Sunday</td>\n",
       "      <td>64.0</td>\n",
       "      <td>54.0</td>\n",
       "      <td>0</td>\n",
       "      <td>2,225</td>\n",
       "      <td>4,057</td>\n",
       "      <td>4,513</td>\n",
       "      <td>3,137</td>\n",
       "      <td>13,932</td>\n",
       "      <td>NaN</td>\n",
       "    </tr>\n",
       "  </tbody>\n",
       "</table>\n",
       "</div>"
      ],
      "text/plain": [
       "   date        day  temp_high  temp_low rain_amt brooklyn_bridge  \\\n",
       "0   301   Saturday       46.0      37.0        0             606   \n",
       "1   302     Sunday       62.1      41.0        0           2,021   \n",
       "2   303     Monday       63.0      50.0     0.03           2,470   \n",
       "3   304    Tuesday       51.1      46.0     1.18             723   \n",
       "4   305  Wednesday       63.0      46.0        0           2,807   \n",
       "5   306   Thursday       48.9      41.0     0.73             461   \n",
       "6   307     Friday       48.0      43.0        T           1,222   \n",
       "7   308   Saturday       55.9      39.9        0           1,674   \n",
       "8   309     Sunday       66.0      45.0        0           2,375   \n",
       "9   310     Monday       73.9      55.0        0           3,324   \n",
       "10  311    Tuesday       80.1      62.1        0           3,887   \n",
       "11  312  Wednesday       73.9      57.9     0.02           2,565   \n",
       "12  313   Thursday       64.0      48.9        0           3,353   \n",
       "13  314     Friday       64.9      48.9        0           2,942   \n",
       "14  315   Saturday       64.9      52.0        0           2,253   \n",
       "15  316     Sunday       84.9      62.1        T           2,877   \n",
       "16  317     Monday       73.9      64.0        T           3,152   \n",
       "17  318    Tuesday       66.0      50.0        0           3,415   \n",
       "18  319  Wednesday       52.0      45.0        T           1,965   \n",
       "19  320   Thursday       64.9      50.0     0.17           1,567   \n",
       "20  321     Friday       53.1      48.0     0.29           1,426   \n",
       "21  322   Saturday       55.9      52.0     0.11           1,318   \n",
       "22  323     Sunday       64.9      46.9        0           2,520   \n",
       "23  324     Monday       60.1      50.0        T           2,544   \n",
       "24  325    Tuesday       54.0      50.0     0.91             611   \n",
       "25  326  Wednesday       59.0      54.0     0.34           1,247   \n",
       "26  327   Thursday       68.0      59.0        0           2,959   \n",
       "27  328     Friday       82.9      57.9        0           3,679   \n",
       "28  329   Saturday       84.0      64.0     0.06           3,315   \n",
       "29  330     Sunday       64.0      54.0        0           2,225   \n",
       "\n",
       "   manhattan_bridge williamsburg_bridge queensboro_bridge total_cyclists  \\\n",
       "0             1,446               1,915             1,430          5,397   \n",
       "1             3,943               4,207             2,862         13,033   \n",
       "2             4,988               5,178             3,689         16,325   \n",
       "3             1,913               2,279             1,666          6,581   \n",
       "4             5,276               5,711             4,197         17,991   \n",
       "5             1,324               1,739             1,372          4,896   \n",
       "6             2,955               3,399             2,765         10,341   \n",
       "7             3,163               4,082             2,691         11,610   \n",
       "8             4,377               4,886             3,261         14,899   \n",
       "9             6,359               6,881             4,731         21,295   \n",
       "10            7,247               8,079             5,501         24,714   \n",
       "11            5,633               6,620             4,537         19,355   \n",
       "12            6,052               6,775             4,700         20,880   \n",
       "13            5,054               5,877             4,142         18,015   \n",
       "14            3,853               4,965             3,291         14,362   \n",
       "15            4,585               5,259             3,687         16,408   \n",
       "16            6,352               6,924             4,658         21,086   \n",
       "17            6,691               7,341             5,012         22,459   \n",
       "18            4,632               5,234             3,996         15,827   \n",
       "19            3,365               4,302             3,056         12,290   \n",
       "20            3,142               3,674             2,672         10,914   \n",
       "21            2,297               2,963             2,366          8,944   \n",
       "22            4,681               5,105             3,434         15,740   \n",
       "23            5,366               5,762             4,183         17,855   \n",
       "24            1,402               1,902             1,578          5,493   \n",
       "25            2,774               3,429             2,369          9,819   \n",
       "26            5,311               6,026             4,285         18,581   \n",
       "27            6,774               7,196             5,138         22,787   \n",
       "28            5,605               6,045             4,078         19,043   \n",
       "29            4,057               4,513             3,137         13,932   \n",
       "\n",
       "   Unnamed: 10  \n",
       "0          NaN  \n",
       "1          NaN  \n",
       "2          NaN  \n",
       "3          NaN  \n",
       "4          NaN  \n",
       "5          NaN  \n",
       "6          NaN  \n",
       "7          NaN  \n",
       "8          NaN  \n",
       "9          NaN  \n",
       "10         NaN  \n",
       "11         NaN  \n",
       "12         NaN  \n",
       "13         NaN  \n",
       "14         NaN  \n",
       "15         NaN  \n",
       "16         NaN  \n",
       "17         NaN  \n",
       "18              \n",
       "19         NaN  \n",
       "20         NaN  \n",
       "21         NaN  \n",
       "22         NaN  \n",
       "23         NaN  \n",
       "24         NaN  \n",
       "25         NaN  \n",
       "26         NaN  \n",
       "27         NaN  \n",
       "28         NaN  \n",
       "29         NaN  "
      ]
     },
     "execution_count": 16,
     "metadata": {},
     "output_type": "execute_result"
    }
   ],
   "source": [
    "bike.head(31)"
   ]
  },
  {
   "cell_type": "code",
   "execution_count": 17,
   "id": "3dd388f0",
   "metadata": {},
   "outputs": [],
   "source": [
    "bike['day'] = bike['day'].str.replace('Sunday', '0')"
   ]
  },
  {
   "cell_type": "code",
   "execution_count": 18,
   "id": "55bf04f2",
   "metadata": {},
   "outputs": [],
   "source": [
    "bike['day'] = bike['day'].str.replace('Monday', '1')"
   ]
  },
  {
   "cell_type": "code",
   "execution_count": 19,
   "id": "20ee9e59",
   "metadata": {},
   "outputs": [],
   "source": [
    "bike['day'] = bike['day'].str.replace('Tuesday', '2')"
   ]
  },
  {
   "cell_type": "code",
   "execution_count": 20,
   "id": "a8015828",
   "metadata": {},
   "outputs": [],
   "source": [
    "bike['day'] = bike['day'].str.replace('Wednesday', '3')"
   ]
  },
  {
   "cell_type": "code",
   "execution_count": 21,
   "id": "8c87468e",
   "metadata": {},
   "outputs": [],
   "source": [
    "bike['day'] = bike['day'].str.replace('Thursday', '4')"
   ]
  },
  {
   "cell_type": "code",
   "execution_count": 22,
   "id": "033ce14f",
   "metadata": {},
   "outputs": [],
   "source": [
    "bike['day'] = bike['day'].str.replace('Friday', '5')"
   ]
  },
  {
   "cell_type": "code",
   "execution_count": 23,
   "id": "5ac24aa5",
   "metadata": {},
   "outputs": [],
   "source": [
    "bike['day'] = bike['day'].str.replace('Saturday', '6')"
   ]
  },
  {
   "cell_type": "code",
   "execution_count": 24,
   "id": "5337403a",
   "metadata": {},
   "outputs": [],
   "source": [
    "bike['day'] = pd.to_numeric(bike['day'], errors='coerce')"
   ]
  },
  {
   "cell_type": "code",
   "execution_count": 25,
   "id": "33e334ad",
   "metadata": {},
   "outputs": [],
   "source": [
    "bike['rain_amt'] = bike['rain_amt'].str.replace('T', '-0.1')"
   ]
  },
  {
   "cell_type": "code",
   "execution_count": 26,
   "id": "ce7a003f",
   "metadata": {},
   "outputs": [],
   "source": [
    "bike['rain_amt'] = pd.to_numeric(bike['rain_amt'], errors='coerce')"
   ]
  },
  {
   "cell_type": "code",
   "execution_count": 27,
   "id": "84fd204d",
   "metadata": {},
   "outputs": [],
   "source": [
    "bike = bike.drop('Unnamed: 10', axis=1)"
   ]
  },
  {
   "cell_type": "code",
   "execution_count": 28,
   "id": "d497948e",
   "metadata": {},
   "outputs": [
    {
     "data": {
      "text/plain": [
       "date                    object\n",
       "day                      int64\n",
       "temp_high              float64\n",
       "temp_low               float64\n",
       "rain_amt               float64\n",
       "brooklyn_bridge         object\n",
       "manhattan_bridge        object\n",
       "williamsburg_bridge     object\n",
       "queensboro_bridge       object\n",
       "total_cyclists          object\n",
       "dtype: object"
      ]
     },
     "execution_count": 28,
     "metadata": {},
     "output_type": "execute_result"
    }
   ],
   "source": [
    "bike.dtypes"
   ]
  },
  {
   "cell_type": "code",
   "execution_count": 29,
   "id": "9a99d43d",
   "metadata": {},
   "outputs": [],
   "source": [
    "bike['date'] = pd.to_numeric(bike['date'], errors='coerce')"
   ]
  },
  {
   "cell_type": "code",
   "execution_count": 30,
   "id": "f481ef7e",
   "metadata": {},
   "outputs": [],
   "source": [
    "bike['brooklyn_bridge'] = bike['brooklyn_bridge'].str.replace(',', '')"
   ]
  },
  {
   "cell_type": "code",
   "execution_count": 31,
   "id": "848b22cc",
   "metadata": {},
   "outputs": [],
   "source": [
    "bike['brooklyn_bridge'] = pd.to_numeric(bike['brooklyn_bridge'], errors='coerce')"
   ]
  },
  {
   "cell_type": "code",
   "execution_count": 32,
   "id": "bc9af7eb",
   "metadata": {},
   "outputs": [],
   "source": [
    "bike['manhattan_bridge'] = bike['manhattan_bridge'].str.replace(',', '')"
   ]
  },
  {
   "cell_type": "code",
   "execution_count": 33,
   "id": "f44fc1fe",
   "metadata": {},
   "outputs": [],
   "source": [
    "bike['manhattan_bridge'] = pd.to_numeric(bike['manhattan_bridge'], errors='coerce')"
   ]
  },
  {
   "cell_type": "code",
   "execution_count": 34,
   "id": "062ba52b",
   "metadata": {},
   "outputs": [],
   "source": [
    "bike['williamsburg_bridge'] = bike['williamsburg_bridge'].str.replace(',', '')"
   ]
  },
  {
   "cell_type": "code",
   "execution_count": 35,
   "id": "8a89cc77",
   "metadata": {},
   "outputs": [],
   "source": [
    "bike['williamsburg_bridge'] = pd.to_numeric(bike['williamsburg_bridge'], errors='coerce')"
   ]
  },
  {
   "cell_type": "code",
   "execution_count": 36,
   "id": "0aabc650",
   "metadata": {},
   "outputs": [],
   "source": [
    "bike['queensboro_bridge'] = bike['queensboro_bridge'].str.replace(',', '')"
   ]
  },
  {
   "cell_type": "code",
   "execution_count": 37,
   "id": "67e08c4e",
   "metadata": {},
   "outputs": [],
   "source": [
    "bike['queensboro_bridge'] = pd.to_numeric(bike['queensboro_bridge'], errors='coerce')"
   ]
  },
  {
   "cell_type": "code",
   "execution_count": 38,
   "id": "e45b9907",
   "metadata": {},
   "outputs": [],
   "source": [
    "bike['total_cyclists'] = bike['total_cyclists'].str.replace(',', '')"
   ]
  },
  {
   "cell_type": "code",
   "execution_count": 39,
   "id": "66a4d247",
   "metadata": {},
   "outputs": [],
   "source": [
    "bike['total_cyclists'] = pd.to_numeric(bike['total_cyclists'], errors='coerce')"
   ]
  },
  {
   "cell_type": "code",
   "execution_count": 40,
   "id": "e06017fd",
   "metadata": {},
   "outputs": [
    {
     "data": {
      "text/plain": [
       "date                     int64\n",
       "day                      int64\n",
       "temp_high              float64\n",
       "temp_low               float64\n",
       "rain_amt               float64\n",
       "brooklyn_bridge          int64\n",
       "manhattan_bridge         int64\n",
       "williamsburg_bridge      int64\n",
       "queensboro_bridge        int64\n",
       "total_cyclists           int64\n",
       "dtype: object"
      ]
     },
     "execution_count": 40,
     "metadata": {},
     "output_type": "execute_result"
    }
   ],
   "source": [
    "bike.dtypes"
   ]
  },
  {
   "cell_type": "code",
   "execution_count": 41,
   "id": "cc539e09",
   "metadata": {},
   "outputs": [
    {
     "data": {
      "text/html": [
       "<div>\n",
       "<style scoped>\n",
       "    .dataframe tbody tr th:only-of-type {\n",
       "        vertical-align: middle;\n",
       "    }\n",
       "\n",
       "    .dataframe tbody tr th {\n",
       "        vertical-align: top;\n",
       "    }\n",
       "\n",
       "    .dataframe thead th {\n",
       "        text-align: right;\n",
       "    }\n",
       "</style>\n",
       "<table border=\"1\" class=\"dataframe\">\n",
       "  <thead>\n",
       "    <tr style=\"text-align: right;\">\n",
       "      <th></th>\n",
       "      <th>date</th>\n",
       "      <th>day</th>\n",
       "      <th>temp_high</th>\n",
       "      <th>temp_low</th>\n",
       "      <th>rain_amt</th>\n",
       "      <th>brooklyn_bridge</th>\n",
       "      <th>manhattan_bridge</th>\n",
       "      <th>williamsburg_bridge</th>\n",
       "      <th>queensboro_bridge</th>\n",
       "      <th>total_cyclists</th>\n",
       "    </tr>\n",
       "  </thead>\n",
       "  <tbody>\n",
       "    <tr>\n",
       "      <th>0</th>\n",
       "      <td>301</td>\n",
       "      <td>6</td>\n",
       "      <td>46.0</td>\n",
       "      <td>37.0</td>\n",
       "      <td>0.00</td>\n",
       "      <td>606</td>\n",
       "      <td>1446</td>\n",
       "      <td>1915</td>\n",
       "      <td>1430</td>\n",
       "      <td>5397</td>\n",
       "    </tr>\n",
       "    <tr>\n",
       "      <th>1</th>\n",
       "      <td>302</td>\n",
       "      <td>0</td>\n",
       "      <td>62.1</td>\n",
       "      <td>41.0</td>\n",
       "      <td>0.00</td>\n",
       "      <td>2021</td>\n",
       "      <td>3943</td>\n",
       "      <td>4207</td>\n",
       "      <td>2862</td>\n",
       "      <td>13033</td>\n",
       "    </tr>\n",
       "    <tr>\n",
       "      <th>2</th>\n",
       "      <td>303</td>\n",
       "      <td>1</td>\n",
       "      <td>63.0</td>\n",
       "      <td>50.0</td>\n",
       "      <td>0.03</td>\n",
       "      <td>2470</td>\n",
       "      <td>4988</td>\n",
       "      <td>5178</td>\n",
       "      <td>3689</td>\n",
       "      <td>16325</td>\n",
       "    </tr>\n",
       "    <tr>\n",
       "      <th>3</th>\n",
       "      <td>304</td>\n",
       "      <td>2</td>\n",
       "      <td>51.1</td>\n",
       "      <td>46.0</td>\n",
       "      <td>1.18</td>\n",
       "      <td>723</td>\n",
       "      <td>1913</td>\n",
       "      <td>2279</td>\n",
       "      <td>1666</td>\n",
       "      <td>6581</td>\n",
       "    </tr>\n",
       "    <tr>\n",
       "      <th>4</th>\n",
       "      <td>305</td>\n",
       "      <td>3</td>\n",
       "      <td>63.0</td>\n",
       "      <td>46.0</td>\n",
       "      <td>0.00</td>\n",
       "      <td>2807</td>\n",
       "      <td>5276</td>\n",
       "      <td>5711</td>\n",
       "      <td>4197</td>\n",
       "      <td>17991</td>\n",
       "    </tr>\n",
       "    <tr>\n",
       "      <th>5</th>\n",
       "      <td>306</td>\n",
       "      <td>4</td>\n",
       "      <td>48.9</td>\n",
       "      <td>41.0</td>\n",
       "      <td>0.73</td>\n",
       "      <td>461</td>\n",
       "      <td>1324</td>\n",
       "      <td>1739</td>\n",
       "      <td>1372</td>\n",
       "      <td>4896</td>\n",
       "    </tr>\n",
       "    <tr>\n",
       "      <th>6</th>\n",
       "      <td>307</td>\n",
       "      <td>5</td>\n",
       "      <td>48.0</td>\n",
       "      <td>43.0</td>\n",
       "      <td>-0.10</td>\n",
       "      <td>1222</td>\n",
       "      <td>2955</td>\n",
       "      <td>3399</td>\n",
       "      <td>2765</td>\n",
       "      <td>10341</td>\n",
       "    </tr>\n",
       "    <tr>\n",
       "      <th>7</th>\n",
       "      <td>308</td>\n",
       "      <td>6</td>\n",
       "      <td>55.9</td>\n",
       "      <td>39.9</td>\n",
       "      <td>0.00</td>\n",
       "      <td>1674</td>\n",
       "      <td>3163</td>\n",
       "      <td>4082</td>\n",
       "      <td>2691</td>\n",
       "      <td>11610</td>\n",
       "    </tr>\n",
       "    <tr>\n",
       "      <th>8</th>\n",
       "      <td>309</td>\n",
       "      <td>0</td>\n",
       "      <td>66.0</td>\n",
       "      <td>45.0</td>\n",
       "      <td>0.00</td>\n",
       "      <td>2375</td>\n",
       "      <td>4377</td>\n",
       "      <td>4886</td>\n",
       "      <td>3261</td>\n",
       "      <td>14899</td>\n",
       "    </tr>\n",
       "    <tr>\n",
       "      <th>9</th>\n",
       "      <td>310</td>\n",
       "      <td>1</td>\n",
       "      <td>73.9</td>\n",
       "      <td>55.0</td>\n",
       "      <td>0.00</td>\n",
       "      <td>3324</td>\n",
       "      <td>6359</td>\n",
       "      <td>6881</td>\n",
       "      <td>4731</td>\n",
       "      <td>21295</td>\n",
       "    </tr>\n",
       "    <tr>\n",
       "      <th>10</th>\n",
       "      <td>311</td>\n",
       "      <td>2</td>\n",
       "      <td>80.1</td>\n",
       "      <td>62.1</td>\n",
       "      <td>0.00</td>\n",
       "      <td>3887</td>\n",
       "      <td>7247</td>\n",
       "      <td>8079</td>\n",
       "      <td>5501</td>\n",
       "      <td>24714</td>\n",
       "    </tr>\n",
       "    <tr>\n",
       "      <th>11</th>\n",
       "      <td>312</td>\n",
       "      <td>3</td>\n",
       "      <td>73.9</td>\n",
       "      <td>57.9</td>\n",
       "      <td>0.02</td>\n",
       "      <td>2565</td>\n",
       "      <td>5633</td>\n",
       "      <td>6620</td>\n",
       "      <td>4537</td>\n",
       "      <td>19355</td>\n",
       "    </tr>\n",
       "    <tr>\n",
       "      <th>12</th>\n",
       "      <td>313</td>\n",
       "      <td>4</td>\n",
       "      <td>64.0</td>\n",
       "      <td>48.9</td>\n",
       "      <td>0.00</td>\n",
       "      <td>3353</td>\n",
       "      <td>6052</td>\n",
       "      <td>6775</td>\n",
       "      <td>4700</td>\n",
       "      <td>20880</td>\n",
       "    </tr>\n",
       "    <tr>\n",
       "      <th>13</th>\n",
       "      <td>314</td>\n",
       "      <td>5</td>\n",
       "      <td>64.9</td>\n",
       "      <td>48.9</td>\n",
       "      <td>0.00</td>\n",
       "      <td>2942</td>\n",
       "      <td>5054</td>\n",
       "      <td>5877</td>\n",
       "      <td>4142</td>\n",
       "      <td>18015</td>\n",
       "    </tr>\n",
       "    <tr>\n",
       "      <th>14</th>\n",
       "      <td>315</td>\n",
       "      <td>6</td>\n",
       "      <td>64.9</td>\n",
       "      <td>52.0</td>\n",
       "      <td>0.00</td>\n",
       "      <td>2253</td>\n",
       "      <td>3853</td>\n",
       "      <td>4965</td>\n",
       "      <td>3291</td>\n",
       "      <td>14362</td>\n",
       "    </tr>\n",
       "    <tr>\n",
       "      <th>15</th>\n",
       "      <td>316</td>\n",
       "      <td>0</td>\n",
       "      <td>84.9</td>\n",
       "      <td>62.1</td>\n",
       "      <td>-0.10</td>\n",
       "      <td>2877</td>\n",
       "      <td>4585</td>\n",
       "      <td>5259</td>\n",
       "      <td>3687</td>\n",
       "      <td>16408</td>\n",
       "    </tr>\n",
       "    <tr>\n",
       "      <th>16</th>\n",
       "      <td>317</td>\n",
       "      <td>1</td>\n",
       "      <td>73.9</td>\n",
       "      <td>64.0</td>\n",
       "      <td>-0.10</td>\n",
       "      <td>3152</td>\n",
       "      <td>6352</td>\n",
       "      <td>6924</td>\n",
       "      <td>4658</td>\n",
       "      <td>21086</td>\n",
       "    </tr>\n",
       "    <tr>\n",
       "      <th>17</th>\n",
       "      <td>318</td>\n",
       "      <td>2</td>\n",
       "      <td>66.0</td>\n",
       "      <td>50.0</td>\n",
       "      <td>0.00</td>\n",
       "      <td>3415</td>\n",
       "      <td>6691</td>\n",
       "      <td>7341</td>\n",
       "      <td>5012</td>\n",
       "      <td>22459</td>\n",
       "    </tr>\n",
       "    <tr>\n",
       "      <th>18</th>\n",
       "      <td>319</td>\n",
       "      <td>3</td>\n",
       "      <td>52.0</td>\n",
       "      <td>45.0</td>\n",
       "      <td>-0.10</td>\n",
       "      <td>1965</td>\n",
       "      <td>4632</td>\n",
       "      <td>5234</td>\n",
       "      <td>3996</td>\n",
       "      <td>15827</td>\n",
       "    </tr>\n",
       "    <tr>\n",
       "      <th>19</th>\n",
       "      <td>320</td>\n",
       "      <td>4</td>\n",
       "      <td>64.9</td>\n",
       "      <td>50.0</td>\n",
       "      <td>0.17</td>\n",
       "      <td>1567</td>\n",
       "      <td>3365</td>\n",
       "      <td>4302</td>\n",
       "      <td>3056</td>\n",
       "      <td>12290</td>\n",
       "    </tr>\n",
       "    <tr>\n",
       "      <th>20</th>\n",
       "      <td>321</td>\n",
       "      <td>5</td>\n",
       "      <td>53.1</td>\n",
       "      <td>48.0</td>\n",
       "      <td>0.29</td>\n",
       "      <td>1426</td>\n",
       "      <td>3142</td>\n",
       "      <td>3674</td>\n",
       "      <td>2672</td>\n",
       "      <td>10914</td>\n",
       "    </tr>\n",
       "    <tr>\n",
       "      <th>21</th>\n",
       "      <td>322</td>\n",
       "      <td>6</td>\n",
       "      <td>55.9</td>\n",
       "      <td>52.0</td>\n",
       "      <td>0.11</td>\n",
       "      <td>1318</td>\n",
       "      <td>2297</td>\n",
       "      <td>2963</td>\n",
       "      <td>2366</td>\n",
       "      <td>8944</td>\n",
       "    </tr>\n",
       "    <tr>\n",
       "      <th>22</th>\n",
       "      <td>323</td>\n",
       "      <td>0</td>\n",
       "      <td>64.9</td>\n",
       "      <td>46.9</td>\n",
       "      <td>0.00</td>\n",
       "      <td>2520</td>\n",
       "      <td>4681</td>\n",
       "      <td>5105</td>\n",
       "      <td>3434</td>\n",
       "      <td>15740</td>\n",
       "    </tr>\n",
       "    <tr>\n",
       "      <th>23</th>\n",
       "      <td>324</td>\n",
       "      <td>1</td>\n",
       "      <td>60.1</td>\n",
       "      <td>50.0</td>\n",
       "      <td>-0.10</td>\n",
       "      <td>2544</td>\n",
       "      <td>5366</td>\n",
       "      <td>5762</td>\n",
       "      <td>4183</td>\n",
       "      <td>17855</td>\n",
       "    </tr>\n",
       "    <tr>\n",
       "      <th>24</th>\n",
       "      <td>325</td>\n",
       "      <td>2</td>\n",
       "      <td>54.0</td>\n",
       "      <td>50.0</td>\n",
       "      <td>0.91</td>\n",
       "      <td>611</td>\n",
       "      <td>1402</td>\n",
       "      <td>1902</td>\n",
       "      <td>1578</td>\n",
       "      <td>5493</td>\n",
       "    </tr>\n",
       "    <tr>\n",
       "      <th>25</th>\n",
       "      <td>326</td>\n",
       "      <td>3</td>\n",
       "      <td>59.0</td>\n",
       "      <td>54.0</td>\n",
       "      <td>0.34</td>\n",
       "      <td>1247</td>\n",
       "      <td>2774</td>\n",
       "      <td>3429</td>\n",
       "      <td>2369</td>\n",
       "      <td>9819</td>\n",
       "    </tr>\n",
       "    <tr>\n",
       "      <th>26</th>\n",
       "      <td>327</td>\n",
       "      <td>4</td>\n",
       "      <td>68.0</td>\n",
       "      <td>59.0</td>\n",
       "      <td>0.00</td>\n",
       "      <td>2959</td>\n",
       "      <td>5311</td>\n",
       "      <td>6026</td>\n",
       "      <td>4285</td>\n",
       "      <td>18581</td>\n",
       "    </tr>\n",
       "    <tr>\n",
       "      <th>27</th>\n",
       "      <td>328</td>\n",
       "      <td>5</td>\n",
       "      <td>82.9</td>\n",
       "      <td>57.9</td>\n",
       "      <td>0.00</td>\n",
       "      <td>3679</td>\n",
       "      <td>6774</td>\n",
       "      <td>7196</td>\n",
       "      <td>5138</td>\n",
       "      <td>22787</td>\n",
       "    </tr>\n",
       "    <tr>\n",
       "      <th>28</th>\n",
       "      <td>329</td>\n",
       "      <td>6</td>\n",
       "      <td>84.0</td>\n",
       "      <td>64.0</td>\n",
       "      <td>0.06</td>\n",
       "      <td>3315</td>\n",
       "      <td>5605</td>\n",
       "      <td>6045</td>\n",
       "      <td>4078</td>\n",
       "      <td>19043</td>\n",
       "    </tr>\n",
       "    <tr>\n",
       "      <th>29</th>\n",
       "      <td>330</td>\n",
       "      <td>0</td>\n",
       "      <td>64.0</td>\n",
       "      <td>54.0</td>\n",
       "      <td>0.00</td>\n",
       "      <td>2225</td>\n",
       "      <td>4057</td>\n",
       "      <td>4513</td>\n",
       "      <td>3137</td>\n",
       "      <td>13932</td>\n",
       "    </tr>\n",
       "  </tbody>\n",
       "</table>\n",
       "</div>"
      ],
      "text/plain": [
       "    date  day  temp_high  temp_low  rain_amt  brooklyn_bridge  \\\n",
       "0    301    6       46.0      37.0      0.00              606   \n",
       "1    302    0       62.1      41.0      0.00             2021   \n",
       "2    303    1       63.0      50.0      0.03             2470   \n",
       "3    304    2       51.1      46.0      1.18              723   \n",
       "4    305    3       63.0      46.0      0.00             2807   \n",
       "5    306    4       48.9      41.0      0.73              461   \n",
       "6    307    5       48.0      43.0     -0.10             1222   \n",
       "7    308    6       55.9      39.9      0.00             1674   \n",
       "8    309    0       66.0      45.0      0.00             2375   \n",
       "9    310    1       73.9      55.0      0.00             3324   \n",
       "10   311    2       80.1      62.1      0.00             3887   \n",
       "11   312    3       73.9      57.9      0.02             2565   \n",
       "12   313    4       64.0      48.9      0.00             3353   \n",
       "13   314    5       64.9      48.9      0.00             2942   \n",
       "14   315    6       64.9      52.0      0.00             2253   \n",
       "15   316    0       84.9      62.1     -0.10             2877   \n",
       "16   317    1       73.9      64.0     -0.10             3152   \n",
       "17   318    2       66.0      50.0      0.00             3415   \n",
       "18   319    3       52.0      45.0     -0.10             1965   \n",
       "19   320    4       64.9      50.0      0.17             1567   \n",
       "20   321    5       53.1      48.0      0.29             1426   \n",
       "21   322    6       55.9      52.0      0.11             1318   \n",
       "22   323    0       64.9      46.9      0.00             2520   \n",
       "23   324    1       60.1      50.0     -0.10             2544   \n",
       "24   325    2       54.0      50.0      0.91              611   \n",
       "25   326    3       59.0      54.0      0.34             1247   \n",
       "26   327    4       68.0      59.0      0.00             2959   \n",
       "27   328    5       82.9      57.9      0.00             3679   \n",
       "28   329    6       84.0      64.0      0.06             3315   \n",
       "29   330    0       64.0      54.0      0.00             2225   \n",
       "\n",
       "    manhattan_bridge  williamsburg_bridge  queensboro_bridge  total_cyclists  \n",
       "0               1446                 1915               1430            5397  \n",
       "1               3943                 4207               2862           13033  \n",
       "2               4988                 5178               3689           16325  \n",
       "3               1913                 2279               1666            6581  \n",
       "4               5276                 5711               4197           17991  \n",
       "5               1324                 1739               1372            4896  \n",
       "6               2955                 3399               2765           10341  \n",
       "7               3163                 4082               2691           11610  \n",
       "8               4377                 4886               3261           14899  \n",
       "9               6359                 6881               4731           21295  \n",
       "10              7247                 8079               5501           24714  \n",
       "11              5633                 6620               4537           19355  \n",
       "12              6052                 6775               4700           20880  \n",
       "13              5054                 5877               4142           18015  \n",
       "14              3853                 4965               3291           14362  \n",
       "15              4585                 5259               3687           16408  \n",
       "16              6352                 6924               4658           21086  \n",
       "17              6691                 7341               5012           22459  \n",
       "18              4632                 5234               3996           15827  \n",
       "19              3365                 4302               3056           12290  \n",
       "20              3142                 3674               2672           10914  \n",
       "21              2297                 2963               2366            8944  \n",
       "22              4681                 5105               3434           15740  \n",
       "23              5366                 5762               4183           17855  \n",
       "24              1402                 1902               1578            5493  \n",
       "25              2774                 3429               2369            9819  \n",
       "26              5311                 6026               4285           18581  \n",
       "27              6774                 7196               5138           22787  \n",
       "28              5605                 6045               4078           19043  \n",
       "29              4057                 4513               3137           13932  "
      ]
     },
     "execution_count": 41,
     "metadata": {},
     "output_type": "execute_result"
    }
   ],
   "source": [
    "bike.head(31)"
   ]
  },
  {
   "cell_type": "markdown",
   "id": "788f498e",
   "metadata": {},
   "source": [
    "### Step 02 - Create and Train the Linear Regression Model"
   ]
  },
  {
   "cell_type": "code",
   "execution_count": 42,
   "id": "88612696",
   "metadata": {},
   "outputs": [],
   "source": [
    "X = bike.drop(['temp_high', 'date', 'rain_amt', 'day', 'total_cyclists', 'brooklyn_bridge', 'manhattan_bridge', 'williamsburg_bridge', 'queensboro_bridge'], axis=1)"
   ]
  },
  {
   "cell_type": "code",
   "execution_count": 43,
   "id": "d71e0927",
   "metadata": {},
   "outputs": [],
   "source": [
    "y = bike['total_cyclists']"
   ]
  },
  {
   "cell_type": "code",
   "execution_count": 44,
   "id": "b9b52ae9",
   "metadata": {},
   "outputs": [],
   "source": [
    "X_train, X_test, y_train, y_test = train_test_split(X, y, test_size=0.5, random_state=123)"
   ]
  },
  {
   "cell_type": "code",
   "execution_count": 45,
   "id": "951d933f",
   "metadata": {},
   "outputs": [],
   "source": [
    "ml_reg = LinearRegression()"
   ]
  },
  {
   "cell_type": "code",
   "execution_count": 46,
   "id": "6299ab25",
   "metadata": {},
   "outputs": [
    {
     "data": {
      "text/html": [
       "<style>#sk-container-id-1 {color: black;}#sk-container-id-1 pre{padding: 0;}#sk-container-id-1 div.sk-toggleable {background-color: white;}#sk-container-id-1 label.sk-toggleable__label {cursor: pointer;display: block;width: 100%;margin-bottom: 0;padding: 0.3em;box-sizing: border-box;text-align: center;}#sk-container-id-1 label.sk-toggleable__label-arrow:before {content: \"▸\";float: left;margin-right: 0.25em;color: #696969;}#sk-container-id-1 label.sk-toggleable__label-arrow:hover:before {color: black;}#sk-container-id-1 div.sk-estimator:hover label.sk-toggleable__label-arrow:before {color: black;}#sk-container-id-1 div.sk-toggleable__content {max-height: 0;max-width: 0;overflow: hidden;text-align: left;background-color: #f0f8ff;}#sk-container-id-1 div.sk-toggleable__content pre {margin: 0.2em;color: black;border-radius: 0.25em;background-color: #f0f8ff;}#sk-container-id-1 input.sk-toggleable__control:checked~div.sk-toggleable__content {max-height: 200px;max-width: 100%;overflow: auto;}#sk-container-id-1 input.sk-toggleable__control:checked~label.sk-toggleable__label-arrow:before {content: \"▾\";}#sk-container-id-1 div.sk-estimator input.sk-toggleable__control:checked~label.sk-toggleable__label {background-color: #d4ebff;}#sk-container-id-1 div.sk-label input.sk-toggleable__control:checked~label.sk-toggleable__label {background-color: #d4ebff;}#sk-container-id-1 input.sk-hidden--visually {border: 0;clip: rect(1px 1px 1px 1px);clip: rect(1px, 1px, 1px, 1px);height: 1px;margin: -1px;overflow: hidden;padding: 0;position: absolute;width: 1px;}#sk-container-id-1 div.sk-estimator {font-family: monospace;background-color: #f0f8ff;border: 1px dotted black;border-radius: 0.25em;box-sizing: border-box;margin-bottom: 0.5em;}#sk-container-id-1 div.sk-estimator:hover {background-color: #d4ebff;}#sk-container-id-1 div.sk-parallel-item::after {content: \"\";width: 100%;border-bottom: 1px solid gray;flex-grow: 1;}#sk-container-id-1 div.sk-label:hover label.sk-toggleable__label {background-color: #d4ebff;}#sk-container-id-1 div.sk-serial::before {content: \"\";position: absolute;border-left: 1px solid gray;box-sizing: border-box;top: 0;bottom: 0;left: 50%;z-index: 0;}#sk-container-id-1 div.sk-serial {display: flex;flex-direction: column;align-items: center;background-color: white;padding-right: 0.2em;padding-left: 0.2em;position: relative;}#sk-container-id-1 div.sk-item {position: relative;z-index: 1;}#sk-container-id-1 div.sk-parallel {display: flex;align-items: stretch;justify-content: center;background-color: white;position: relative;}#sk-container-id-1 div.sk-item::before, #sk-container-id-1 div.sk-parallel-item::before {content: \"\";position: absolute;border-left: 1px solid gray;box-sizing: border-box;top: 0;bottom: 0;left: 50%;z-index: -1;}#sk-container-id-1 div.sk-parallel-item {display: flex;flex-direction: column;z-index: 1;position: relative;background-color: white;}#sk-container-id-1 div.sk-parallel-item:first-child::after {align-self: flex-end;width: 50%;}#sk-container-id-1 div.sk-parallel-item:last-child::after {align-self: flex-start;width: 50%;}#sk-container-id-1 div.sk-parallel-item:only-child::after {width: 0;}#sk-container-id-1 div.sk-dashed-wrapped {border: 1px dashed gray;margin: 0 0.4em 0.5em 0.4em;box-sizing: border-box;padding-bottom: 0.4em;background-color: white;}#sk-container-id-1 div.sk-label label {font-family: monospace;font-weight: bold;display: inline-block;line-height: 1.2em;}#sk-container-id-1 div.sk-label-container {text-align: center;}#sk-container-id-1 div.sk-container {/* jupyter's `normalize.less` sets `[hidden] { display: none; }` but bootstrap.min.css set `[hidden] { display: none !important; }` so we also need the `!important` here to be able to override the default hidden behavior on the sphinx rendered scikit-learn.org. See: https://github.com/scikit-learn/scikit-learn/issues/21755 */display: inline-block !important;position: relative;}#sk-container-id-1 div.sk-text-repr-fallback {display: none;}</style><div id=\"sk-container-id-1\" class=\"sk-top-container\"><div class=\"sk-text-repr-fallback\"><pre>LinearRegression()</pre><b>In a Jupyter environment, please rerun this cell to show the HTML representation or trust the notebook. <br />On GitHub, the HTML representation is unable to render, please try loading this page with nbviewer.org.</b></div><div class=\"sk-container\" hidden><div class=\"sk-item\"><div class=\"sk-estimator sk-toggleable\"><input class=\"sk-toggleable__control sk-hidden--visually\" id=\"sk-estimator-id-1\" type=\"checkbox\" checked><label for=\"sk-estimator-id-1\" class=\"sk-toggleable__label sk-toggleable__label-arrow\">LinearRegression</label><div class=\"sk-toggleable__content\"><pre>LinearRegression()</pre></div></div></div></div></div>"
      ],
      "text/plain": [
       "LinearRegression()"
      ]
     },
     "execution_count": 46,
     "metadata": {},
     "output_type": "execute_result"
    }
   ],
   "source": [
    "ml_reg.fit(X_train, y_train)"
   ]
  },
  {
   "cell_type": "code",
   "execution_count": 47,
   "id": "152b74c0",
   "metadata": {},
   "outputs": [],
   "source": [
    "y_pred_ml_reg = ml_reg.predict(X_train)"
   ]
  },
  {
   "cell_type": "code",
   "execution_count": 48,
   "id": "b8febac5",
   "metadata": {},
   "outputs": [
    {
     "data": {
      "text/plain": [
       "15"
      ]
     },
     "execution_count": 48,
     "metadata": {},
     "output_type": "execute_result"
    }
   ],
   "source": [
    "len(y_pred_ml_reg)"
   ]
  },
  {
   "cell_type": "code",
   "execution_count": 49,
   "id": "bf2ae6a8",
   "metadata": {},
   "outputs": [
    {
     "data": {
      "text/plain": [
       "temp_low    447.6\n",
       "dtype: float64"
      ]
     },
     "execution_count": 49,
     "metadata": {},
     "output_type": "execute_result"
    }
   ],
   "source": [
    "pd.Series(ml_reg.coef_, index=X_train.columns).sort_values(ascending=False).round(2)"
   ]
  },
  {
   "cell_type": "code",
   "execution_count": 50,
   "id": "19ee81b2",
   "metadata": {},
   "outputs": [
    {
     "data": {
      "text/plain": [
       "0.43243963817094444"
      ]
     },
     "execution_count": 50,
     "metadata": {},
     "output_type": "execute_result"
    }
   ],
   "source": [
    "ml_reg.score(X_train, y_train)"
   ]
  },
  {
   "cell_type": "code",
   "execution_count": 51,
   "id": "777a971a",
   "metadata": {},
   "outputs": [
    {
     "data": {
      "text/plain": [
       "0.32579152971299463"
      ]
     },
     "execution_count": 51,
     "metadata": {},
     "output_type": "execute_result"
    }
   ],
   "source": [
    "ml_reg.score(X_test, y_test)"
   ]
  },
  {
   "cell_type": "markdown",
   "id": "c6d4aabe",
   "metadata": {},
   "source": [
    "### Step 04 - Plot Regression"
   ]
  },
  {
   "cell_type": "code",
   "execution_count": 52,
   "id": "78aea2e4",
   "metadata": {},
   "outputs": [
    {
     "data": {
      "application/javascript": [
       "/* Put everything inside the global mpl namespace */\n",
       "/* global mpl */\n",
       "window.mpl = {};\n",
       "\n",
       "mpl.get_websocket_type = function () {\n",
       "    if (typeof WebSocket !== 'undefined') {\n",
       "        return WebSocket;\n",
       "    } else if (typeof MozWebSocket !== 'undefined') {\n",
       "        return MozWebSocket;\n",
       "    } else {\n",
       "        alert(\n",
       "            'Your browser does not have WebSocket support. ' +\n",
       "                'Please try Chrome, Safari or Firefox ≥ 6. ' +\n",
       "                'Firefox 4 and 5 are also supported but you ' +\n",
       "                'have to enable WebSockets in about:config.'\n",
       "        );\n",
       "    }\n",
       "};\n",
       "\n",
       "mpl.figure = function (figure_id, websocket, ondownload, parent_element) {\n",
       "    this.id = figure_id;\n",
       "\n",
       "    this.ws = websocket;\n",
       "\n",
       "    this.supports_binary = this.ws.binaryType !== undefined;\n",
       "\n",
       "    if (!this.supports_binary) {\n",
       "        var warnings = document.getElementById('mpl-warnings');\n",
       "        if (warnings) {\n",
       "            warnings.style.display = 'block';\n",
       "            warnings.textContent =\n",
       "                'This browser does not support binary websocket messages. ' +\n",
       "                'Performance may be slow.';\n",
       "        }\n",
       "    }\n",
       "\n",
       "    this.imageObj = new Image();\n",
       "\n",
       "    this.context = undefined;\n",
       "    this.message = undefined;\n",
       "    this.canvas = undefined;\n",
       "    this.rubberband_canvas = undefined;\n",
       "    this.rubberband_context = undefined;\n",
       "    this.format_dropdown = undefined;\n",
       "\n",
       "    this.image_mode = 'full';\n",
       "\n",
       "    this.root = document.createElement('div');\n",
       "    this.root.setAttribute('style', 'display: inline-block');\n",
       "    this._root_extra_style(this.root);\n",
       "\n",
       "    parent_element.appendChild(this.root);\n",
       "\n",
       "    this._init_header(this);\n",
       "    this._init_canvas(this);\n",
       "    this._init_toolbar(this);\n",
       "\n",
       "    var fig = this;\n",
       "\n",
       "    this.waiting = false;\n",
       "\n",
       "    this.ws.onopen = function () {\n",
       "        fig.send_message('supports_binary', { value: fig.supports_binary });\n",
       "        fig.send_message('send_image_mode', {});\n",
       "        if (fig.ratio !== 1) {\n",
       "            fig.send_message('set_device_pixel_ratio', {\n",
       "                device_pixel_ratio: fig.ratio,\n",
       "            });\n",
       "        }\n",
       "        fig.send_message('refresh', {});\n",
       "    };\n",
       "\n",
       "    this.imageObj.onload = function () {\n",
       "        if (fig.image_mode === 'full') {\n",
       "            // Full images could contain transparency (where diff images\n",
       "            // almost always do), so we need to clear the canvas so that\n",
       "            // there is no ghosting.\n",
       "            fig.context.clearRect(0, 0, fig.canvas.width, fig.canvas.height);\n",
       "        }\n",
       "        fig.context.drawImage(fig.imageObj, 0, 0);\n",
       "    };\n",
       "\n",
       "    this.imageObj.onunload = function () {\n",
       "        fig.ws.close();\n",
       "    };\n",
       "\n",
       "    this.ws.onmessage = this._make_on_message_function(this);\n",
       "\n",
       "    this.ondownload = ondownload;\n",
       "};\n",
       "\n",
       "mpl.figure.prototype._init_header = function () {\n",
       "    var titlebar = document.createElement('div');\n",
       "    titlebar.classList =\n",
       "        'ui-dialog-titlebar ui-widget-header ui-corner-all ui-helper-clearfix';\n",
       "    var titletext = document.createElement('div');\n",
       "    titletext.classList = 'ui-dialog-title';\n",
       "    titletext.setAttribute(\n",
       "        'style',\n",
       "        'width: 100%; text-align: center; padding: 3px;'\n",
       "    );\n",
       "    titlebar.appendChild(titletext);\n",
       "    this.root.appendChild(titlebar);\n",
       "    this.header = titletext;\n",
       "};\n",
       "\n",
       "mpl.figure.prototype._canvas_extra_style = function (_canvas_div) {};\n",
       "\n",
       "mpl.figure.prototype._root_extra_style = function (_canvas_div) {};\n",
       "\n",
       "mpl.figure.prototype._init_canvas = function () {\n",
       "    var fig = this;\n",
       "\n",
       "    var canvas_div = (this.canvas_div = document.createElement('div'));\n",
       "    canvas_div.setAttribute('tabindex', '0');\n",
       "    canvas_div.setAttribute(\n",
       "        'style',\n",
       "        'border: 1px solid #ddd;' +\n",
       "            'box-sizing: content-box;' +\n",
       "            'clear: both;' +\n",
       "            'min-height: 1px;' +\n",
       "            'min-width: 1px;' +\n",
       "            'outline: 0;' +\n",
       "            'overflow: hidden;' +\n",
       "            'position: relative;' +\n",
       "            'resize: both;' +\n",
       "            'z-index: 2;'\n",
       "    );\n",
       "\n",
       "    function on_keyboard_event_closure(name) {\n",
       "        return function (event) {\n",
       "            return fig.key_event(event, name);\n",
       "        };\n",
       "    }\n",
       "\n",
       "    canvas_div.addEventListener(\n",
       "        'keydown',\n",
       "        on_keyboard_event_closure('key_press')\n",
       "    );\n",
       "    canvas_div.addEventListener(\n",
       "        'keyup',\n",
       "        on_keyboard_event_closure('key_release')\n",
       "    );\n",
       "\n",
       "    this._canvas_extra_style(canvas_div);\n",
       "    this.root.appendChild(canvas_div);\n",
       "\n",
       "    var canvas = (this.canvas = document.createElement('canvas'));\n",
       "    canvas.classList.add('mpl-canvas');\n",
       "    canvas.setAttribute(\n",
       "        'style',\n",
       "        'box-sizing: content-box;' +\n",
       "            'pointer-events: none;' +\n",
       "            'position: relative;' +\n",
       "            'z-index: 0;'\n",
       "    );\n",
       "\n",
       "    this.context = canvas.getContext('2d');\n",
       "\n",
       "    var backingStore =\n",
       "        this.context.backingStorePixelRatio ||\n",
       "        this.context.webkitBackingStorePixelRatio ||\n",
       "        this.context.mozBackingStorePixelRatio ||\n",
       "        this.context.msBackingStorePixelRatio ||\n",
       "        this.context.oBackingStorePixelRatio ||\n",
       "        this.context.backingStorePixelRatio ||\n",
       "        1;\n",
       "\n",
       "    this.ratio = (window.devicePixelRatio || 1) / backingStore;\n",
       "\n",
       "    var rubberband_canvas = (this.rubberband_canvas = document.createElement(\n",
       "        'canvas'\n",
       "    ));\n",
       "    rubberband_canvas.setAttribute(\n",
       "        'style',\n",
       "        'box-sizing: content-box;' +\n",
       "            'left: 0;' +\n",
       "            'pointer-events: none;' +\n",
       "            'position: absolute;' +\n",
       "            'top: 0;' +\n",
       "            'z-index: 1;'\n",
       "    );\n",
       "\n",
       "    // Apply a ponyfill if ResizeObserver is not implemented by browser.\n",
       "    if (this.ResizeObserver === undefined) {\n",
       "        if (window.ResizeObserver !== undefined) {\n",
       "            this.ResizeObserver = window.ResizeObserver;\n",
       "        } else {\n",
       "            var obs = _JSXTOOLS_RESIZE_OBSERVER({});\n",
       "            this.ResizeObserver = obs.ResizeObserver;\n",
       "        }\n",
       "    }\n",
       "\n",
       "    this.resizeObserverInstance = new this.ResizeObserver(function (entries) {\n",
       "        var nentries = entries.length;\n",
       "        for (var i = 0; i < nentries; i++) {\n",
       "            var entry = entries[i];\n",
       "            var width, height;\n",
       "            if (entry.contentBoxSize) {\n",
       "                if (entry.contentBoxSize instanceof Array) {\n",
       "                    // Chrome 84 implements new version of spec.\n",
       "                    width = entry.contentBoxSize[0].inlineSize;\n",
       "                    height = entry.contentBoxSize[0].blockSize;\n",
       "                } else {\n",
       "                    // Firefox implements old version of spec.\n",
       "                    width = entry.contentBoxSize.inlineSize;\n",
       "                    height = entry.contentBoxSize.blockSize;\n",
       "                }\n",
       "            } else {\n",
       "                // Chrome <84 implements even older version of spec.\n",
       "                width = entry.contentRect.width;\n",
       "                height = entry.contentRect.height;\n",
       "            }\n",
       "\n",
       "            // Keep the size of the canvas and rubber band canvas in sync with\n",
       "            // the canvas container.\n",
       "            if (entry.devicePixelContentBoxSize) {\n",
       "                // Chrome 84 implements new version of spec.\n",
       "                canvas.setAttribute(\n",
       "                    'width',\n",
       "                    entry.devicePixelContentBoxSize[0].inlineSize\n",
       "                );\n",
       "                canvas.setAttribute(\n",
       "                    'height',\n",
       "                    entry.devicePixelContentBoxSize[0].blockSize\n",
       "                );\n",
       "            } else {\n",
       "                canvas.setAttribute('width', width * fig.ratio);\n",
       "                canvas.setAttribute('height', height * fig.ratio);\n",
       "            }\n",
       "            /* This rescales the canvas back to display pixels, so that it\n",
       "             * appears correct on HiDPI screens. */\n",
       "            canvas.style.width = width + 'px';\n",
       "            canvas.style.height = height + 'px';\n",
       "\n",
       "            rubberband_canvas.setAttribute('width', width);\n",
       "            rubberband_canvas.setAttribute('height', height);\n",
       "\n",
       "            // And update the size in Python. We ignore the initial 0/0 size\n",
       "            // that occurs as the element is placed into the DOM, which should\n",
       "            // otherwise not happen due to the minimum size styling.\n",
       "            if (fig.ws.readyState == 1 && width != 0 && height != 0) {\n",
       "                fig.request_resize(width, height);\n",
       "            }\n",
       "        }\n",
       "    });\n",
       "    this.resizeObserverInstance.observe(canvas_div);\n",
       "\n",
       "    function on_mouse_event_closure(name) {\n",
       "        /* User Agent sniffing is bad, but WebKit is busted:\n",
       "         * https://bugs.webkit.org/show_bug.cgi?id=144526\n",
       "         * https://bugs.webkit.org/show_bug.cgi?id=181818\n",
       "         * The worst that happens here is that they get an extra browser\n",
       "         * selection when dragging, if this check fails to catch them.\n",
       "         */\n",
       "        var UA = navigator.userAgent;\n",
       "        var isWebKit = /AppleWebKit/.test(UA) && !/Chrome/.test(UA);\n",
       "        if(isWebKit) {\n",
       "            return function (event) {\n",
       "                /* This prevents the web browser from automatically changing to\n",
       "                 * the text insertion cursor when the button is pressed. We\n",
       "                 * want to control all of the cursor setting manually through\n",
       "                 * the 'cursor' event from matplotlib */\n",
       "                event.preventDefault()\n",
       "                return fig.mouse_event(event, name);\n",
       "            };\n",
       "        } else {\n",
       "            return function (event) {\n",
       "                return fig.mouse_event(event, name);\n",
       "            };\n",
       "        }\n",
       "    }\n",
       "\n",
       "    canvas_div.addEventListener(\n",
       "        'mousedown',\n",
       "        on_mouse_event_closure('button_press')\n",
       "    );\n",
       "    canvas_div.addEventListener(\n",
       "        'mouseup',\n",
       "        on_mouse_event_closure('button_release')\n",
       "    );\n",
       "    canvas_div.addEventListener(\n",
       "        'dblclick',\n",
       "        on_mouse_event_closure('dblclick')\n",
       "    );\n",
       "    // Throttle sequential mouse events to 1 every 20ms.\n",
       "    canvas_div.addEventListener(\n",
       "        'mousemove',\n",
       "        on_mouse_event_closure('motion_notify')\n",
       "    );\n",
       "\n",
       "    canvas_div.addEventListener(\n",
       "        'mouseenter',\n",
       "        on_mouse_event_closure('figure_enter')\n",
       "    );\n",
       "    canvas_div.addEventListener(\n",
       "        'mouseleave',\n",
       "        on_mouse_event_closure('figure_leave')\n",
       "    );\n",
       "\n",
       "    canvas_div.addEventListener('wheel', function (event) {\n",
       "        if (event.deltaY < 0) {\n",
       "            event.step = 1;\n",
       "        } else {\n",
       "            event.step = -1;\n",
       "        }\n",
       "        on_mouse_event_closure('scroll')(event);\n",
       "    });\n",
       "\n",
       "    canvas_div.appendChild(canvas);\n",
       "    canvas_div.appendChild(rubberband_canvas);\n",
       "\n",
       "    this.rubberband_context = rubberband_canvas.getContext('2d');\n",
       "    this.rubberband_context.strokeStyle = '#000000';\n",
       "\n",
       "    this._resize_canvas = function (width, height, forward) {\n",
       "        if (forward) {\n",
       "            canvas_div.style.width = width + 'px';\n",
       "            canvas_div.style.height = height + 'px';\n",
       "        }\n",
       "    };\n",
       "\n",
       "    // Disable right mouse context menu.\n",
       "    canvas_div.addEventListener('contextmenu', function (_e) {\n",
       "        event.preventDefault();\n",
       "        return false;\n",
       "    });\n",
       "\n",
       "    function set_focus() {\n",
       "        canvas.focus();\n",
       "        canvas_div.focus();\n",
       "    }\n",
       "\n",
       "    window.setTimeout(set_focus, 100);\n",
       "};\n",
       "\n",
       "mpl.figure.prototype._init_toolbar = function () {\n",
       "    var fig = this;\n",
       "\n",
       "    var toolbar = document.createElement('div');\n",
       "    toolbar.classList = 'mpl-toolbar';\n",
       "    this.root.appendChild(toolbar);\n",
       "\n",
       "    function on_click_closure(name) {\n",
       "        return function (_event) {\n",
       "            return fig.toolbar_button_onclick(name);\n",
       "        };\n",
       "    }\n",
       "\n",
       "    function on_mouseover_closure(tooltip) {\n",
       "        return function (event) {\n",
       "            if (!event.currentTarget.disabled) {\n",
       "                return fig.toolbar_button_onmouseover(tooltip);\n",
       "            }\n",
       "        };\n",
       "    }\n",
       "\n",
       "    fig.buttons = {};\n",
       "    var buttonGroup = document.createElement('div');\n",
       "    buttonGroup.classList = 'mpl-button-group';\n",
       "    for (var toolbar_ind in mpl.toolbar_items) {\n",
       "        var name = mpl.toolbar_items[toolbar_ind][0];\n",
       "        var tooltip = mpl.toolbar_items[toolbar_ind][1];\n",
       "        var image = mpl.toolbar_items[toolbar_ind][2];\n",
       "        var method_name = mpl.toolbar_items[toolbar_ind][3];\n",
       "\n",
       "        if (!name) {\n",
       "            /* Instead of a spacer, we start a new button group. */\n",
       "            if (buttonGroup.hasChildNodes()) {\n",
       "                toolbar.appendChild(buttonGroup);\n",
       "            }\n",
       "            buttonGroup = document.createElement('div');\n",
       "            buttonGroup.classList = 'mpl-button-group';\n",
       "            continue;\n",
       "        }\n",
       "\n",
       "        var button = (fig.buttons[name] = document.createElement('button'));\n",
       "        button.classList = 'mpl-widget';\n",
       "        button.setAttribute('role', 'button');\n",
       "        button.setAttribute('aria-disabled', 'false');\n",
       "        button.addEventListener('click', on_click_closure(method_name));\n",
       "        button.addEventListener('mouseover', on_mouseover_closure(tooltip));\n",
       "\n",
       "        var icon_img = document.createElement('img');\n",
       "        icon_img.src = '_images/' + image + '.png';\n",
       "        icon_img.srcset = '_images/' + image + '_large.png 2x';\n",
       "        icon_img.alt = tooltip;\n",
       "        button.appendChild(icon_img);\n",
       "\n",
       "        buttonGroup.appendChild(button);\n",
       "    }\n",
       "\n",
       "    if (buttonGroup.hasChildNodes()) {\n",
       "        toolbar.appendChild(buttonGroup);\n",
       "    }\n",
       "\n",
       "    var fmt_picker = document.createElement('select');\n",
       "    fmt_picker.classList = 'mpl-widget';\n",
       "    toolbar.appendChild(fmt_picker);\n",
       "    this.format_dropdown = fmt_picker;\n",
       "\n",
       "    for (var ind in mpl.extensions) {\n",
       "        var fmt = mpl.extensions[ind];\n",
       "        var option = document.createElement('option');\n",
       "        option.selected = fmt === mpl.default_extension;\n",
       "        option.innerHTML = fmt;\n",
       "        fmt_picker.appendChild(option);\n",
       "    }\n",
       "\n",
       "    var status_bar = document.createElement('span');\n",
       "    status_bar.classList = 'mpl-message';\n",
       "    toolbar.appendChild(status_bar);\n",
       "    this.message = status_bar;\n",
       "};\n",
       "\n",
       "mpl.figure.prototype.request_resize = function (x_pixels, y_pixels) {\n",
       "    // Request matplotlib to resize the figure. Matplotlib will then trigger a resize in the client,\n",
       "    // which will in turn request a refresh of the image.\n",
       "    this.send_message('resize', { width: x_pixels, height: y_pixels });\n",
       "};\n",
       "\n",
       "mpl.figure.prototype.send_message = function (type, properties) {\n",
       "    properties['type'] = type;\n",
       "    properties['figure_id'] = this.id;\n",
       "    this.ws.send(JSON.stringify(properties));\n",
       "};\n",
       "\n",
       "mpl.figure.prototype.send_draw_message = function () {\n",
       "    if (!this.waiting) {\n",
       "        this.waiting = true;\n",
       "        this.ws.send(JSON.stringify({ type: 'draw', figure_id: this.id }));\n",
       "    }\n",
       "};\n",
       "\n",
       "mpl.figure.prototype.handle_save = function (fig, _msg) {\n",
       "    var format_dropdown = fig.format_dropdown;\n",
       "    var format = format_dropdown.options[format_dropdown.selectedIndex].value;\n",
       "    fig.ondownload(fig, format);\n",
       "};\n",
       "\n",
       "mpl.figure.prototype.handle_resize = function (fig, msg) {\n",
       "    var size = msg['size'];\n",
       "    if (size[0] !== fig.canvas.width || size[1] !== fig.canvas.height) {\n",
       "        fig._resize_canvas(size[0], size[1], msg['forward']);\n",
       "        fig.send_message('refresh', {});\n",
       "    }\n",
       "};\n",
       "\n",
       "mpl.figure.prototype.handle_rubberband = function (fig, msg) {\n",
       "    var x0 = msg['x0'] / fig.ratio;\n",
       "    var y0 = (fig.canvas.height - msg['y0']) / fig.ratio;\n",
       "    var x1 = msg['x1'] / fig.ratio;\n",
       "    var y1 = (fig.canvas.height - msg['y1']) / fig.ratio;\n",
       "    x0 = Math.floor(x0) + 0.5;\n",
       "    y0 = Math.floor(y0) + 0.5;\n",
       "    x1 = Math.floor(x1) + 0.5;\n",
       "    y1 = Math.floor(y1) + 0.5;\n",
       "    var min_x = Math.min(x0, x1);\n",
       "    var min_y = Math.min(y0, y1);\n",
       "    var width = Math.abs(x1 - x0);\n",
       "    var height = Math.abs(y1 - y0);\n",
       "\n",
       "    fig.rubberband_context.clearRect(\n",
       "        0,\n",
       "        0,\n",
       "        fig.canvas.width / fig.ratio,\n",
       "        fig.canvas.height / fig.ratio\n",
       "    );\n",
       "\n",
       "    fig.rubberband_context.strokeRect(min_x, min_y, width, height);\n",
       "};\n",
       "\n",
       "mpl.figure.prototype.handle_figure_label = function (fig, msg) {\n",
       "    // Updates the figure title.\n",
       "    fig.header.textContent = msg['label'];\n",
       "};\n",
       "\n",
       "mpl.figure.prototype.handle_cursor = function (fig, msg) {\n",
       "    fig.canvas_div.style.cursor = msg['cursor'];\n",
       "};\n",
       "\n",
       "mpl.figure.prototype.handle_message = function (fig, msg) {\n",
       "    fig.message.textContent = msg['message'];\n",
       "};\n",
       "\n",
       "mpl.figure.prototype.handle_draw = function (fig, _msg) {\n",
       "    // Request the server to send over a new figure.\n",
       "    fig.send_draw_message();\n",
       "};\n",
       "\n",
       "mpl.figure.prototype.handle_image_mode = function (fig, msg) {\n",
       "    fig.image_mode = msg['mode'];\n",
       "};\n",
       "\n",
       "mpl.figure.prototype.handle_history_buttons = function (fig, msg) {\n",
       "    for (var key in msg) {\n",
       "        if (!(key in fig.buttons)) {\n",
       "            continue;\n",
       "        }\n",
       "        fig.buttons[key].disabled = !msg[key];\n",
       "        fig.buttons[key].setAttribute('aria-disabled', !msg[key]);\n",
       "    }\n",
       "};\n",
       "\n",
       "mpl.figure.prototype.handle_navigate_mode = function (fig, msg) {\n",
       "    if (msg['mode'] === 'PAN') {\n",
       "        fig.buttons['Pan'].classList.add('active');\n",
       "        fig.buttons['Zoom'].classList.remove('active');\n",
       "    } else if (msg['mode'] === 'ZOOM') {\n",
       "        fig.buttons['Pan'].classList.remove('active');\n",
       "        fig.buttons['Zoom'].classList.add('active');\n",
       "    } else {\n",
       "        fig.buttons['Pan'].classList.remove('active');\n",
       "        fig.buttons['Zoom'].classList.remove('active');\n",
       "    }\n",
       "};\n",
       "\n",
       "mpl.figure.prototype.updated_canvas_event = function () {\n",
       "    // Called whenever the canvas gets updated.\n",
       "    this.send_message('ack', {});\n",
       "};\n",
       "\n",
       "// A function to construct a web socket function for onmessage handling.\n",
       "// Called in the figure constructor.\n",
       "mpl.figure.prototype._make_on_message_function = function (fig) {\n",
       "    return function socket_on_message(evt) {\n",
       "        if (evt.data instanceof Blob) {\n",
       "            var img = evt.data;\n",
       "            if (img.type !== 'image/png') {\n",
       "                /* FIXME: We get \"Resource interpreted as Image but\n",
       "                 * transferred with MIME type text/plain:\" errors on\n",
       "                 * Chrome.  But how to set the MIME type?  It doesn't seem\n",
       "                 * to be part of the websocket stream */\n",
       "                img.type = 'image/png';\n",
       "            }\n",
       "\n",
       "            /* Free the memory for the previous frames */\n",
       "            if (fig.imageObj.src) {\n",
       "                (window.URL || window.webkitURL).revokeObjectURL(\n",
       "                    fig.imageObj.src\n",
       "                );\n",
       "            }\n",
       "\n",
       "            fig.imageObj.src = (window.URL || window.webkitURL).createObjectURL(\n",
       "                img\n",
       "            );\n",
       "            fig.updated_canvas_event();\n",
       "            fig.waiting = false;\n",
       "            return;\n",
       "        } else if (\n",
       "            typeof evt.data === 'string' &&\n",
       "            evt.data.slice(0, 21) === 'data:image/png;base64'\n",
       "        ) {\n",
       "            fig.imageObj.src = evt.data;\n",
       "            fig.updated_canvas_event();\n",
       "            fig.waiting = false;\n",
       "            return;\n",
       "        }\n",
       "\n",
       "        var msg = JSON.parse(evt.data);\n",
       "        var msg_type = msg['type'];\n",
       "\n",
       "        // Call the  \"handle_{type}\" callback, which takes\n",
       "        // the figure and JSON message as its only arguments.\n",
       "        try {\n",
       "            var callback = fig['handle_' + msg_type];\n",
       "        } catch (e) {\n",
       "            console.log(\n",
       "                \"No handler for the '\" + msg_type + \"' message type: \",\n",
       "                msg\n",
       "            );\n",
       "            return;\n",
       "        }\n",
       "\n",
       "        if (callback) {\n",
       "            try {\n",
       "                // console.log(\"Handling '\" + msg_type + \"' message: \", msg);\n",
       "                callback(fig, msg);\n",
       "            } catch (e) {\n",
       "                console.log(\n",
       "                    \"Exception inside the 'handler_\" + msg_type + \"' callback:\",\n",
       "                    e,\n",
       "                    e.stack,\n",
       "                    msg\n",
       "                );\n",
       "            }\n",
       "        }\n",
       "    };\n",
       "};\n",
       "\n",
       "function getModifiers(event) {\n",
       "    var mods = [];\n",
       "    if (event.ctrlKey) {\n",
       "        mods.push('ctrl');\n",
       "    }\n",
       "    if (event.altKey) {\n",
       "        mods.push('alt');\n",
       "    }\n",
       "    if (event.shiftKey) {\n",
       "        mods.push('shift');\n",
       "    }\n",
       "    if (event.metaKey) {\n",
       "        mods.push('meta');\n",
       "    }\n",
       "    return mods;\n",
       "}\n",
       "\n",
       "/*\n",
       " * return a copy of an object with only non-object keys\n",
       " * we need this to avoid circular references\n",
       " * https://stackoverflow.com/a/24161582/3208463\n",
       " */\n",
       "function simpleKeys(original) {\n",
       "    return Object.keys(original).reduce(function (obj, key) {\n",
       "        if (typeof original[key] !== 'object') {\n",
       "            obj[key] = original[key];\n",
       "        }\n",
       "        return obj;\n",
       "    }, {});\n",
       "}\n",
       "\n",
       "mpl.figure.prototype.mouse_event = function (event, name) {\n",
       "    if (name === 'button_press') {\n",
       "        this.canvas.focus();\n",
       "        this.canvas_div.focus();\n",
       "    }\n",
       "\n",
       "    // from https://stackoverflow.com/q/1114465\n",
       "    var boundingRect = this.canvas.getBoundingClientRect();\n",
       "    var x = (event.clientX - boundingRect.left) * this.ratio;\n",
       "    var y = (event.clientY - boundingRect.top) * this.ratio;\n",
       "\n",
       "    this.send_message(name, {\n",
       "        x: x,\n",
       "        y: y,\n",
       "        button: event.button,\n",
       "        step: event.step,\n",
       "        modifiers: getModifiers(event),\n",
       "        guiEvent: simpleKeys(event),\n",
       "    });\n",
       "\n",
       "    return false;\n",
       "};\n",
       "\n",
       "mpl.figure.prototype._key_event_extra = function (_event, _name) {\n",
       "    // Handle any extra behaviour associated with a key event\n",
       "};\n",
       "\n",
       "mpl.figure.prototype.key_event = function (event, name) {\n",
       "    // Prevent repeat events\n",
       "    if (name === 'key_press') {\n",
       "        if (event.key === this._key) {\n",
       "            return;\n",
       "        } else {\n",
       "            this._key = event.key;\n",
       "        }\n",
       "    }\n",
       "    if (name === 'key_release') {\n",
       "        this._key = null;\n",
       "    }\n",
       "\n",
       "    var value = '';\n",
       "    if (event.ctrlKey && event.key !== 'Control') {\n",
       "        value += 'ctrl+';\n",
       "    }\n",
       "    else if (event.altKey && event.key !== 'Alt') {\n",
       "        value += 'alt+';\n",
       "    }\n",
       "    else if (event.shiftKey && event.key !== 'Shift') {\n",
       "        value += 'shift+';\n",
       "    }\n",
       "\n",
       "    value += 'k' + event.key;\n",
       "\n",
       "    this._key_event_extra(event, name);\n",
       "\n",
       "    this.send_message(name, { key: value, guiEvent: simpleKeys(event) });\n",
       "    return false;\n",
       "};\n",
       "\n",
       "mpl.figure.prototype.toolbar_button_onclick = function (name) {\n",
       "    if (name === 'download') {\n",
       "        this.handle_save(this, null);\n",
       "    } else {\n",
       "        this.send_message('toolbar_button', { name: name });\n",
       "    }\n",
       "};\n",
       "\n",
       "mpl.figure.prototype.toolbar_button_onmouseover = function (tooltip) {\n",
       "    this.message.textContent = tooltip;\n",
       "};\n",
       "\n",
       "///////////////// REMAINING CONTENT GENERATED BY embed_js.py /////////////////\n",
       "// prettier-ignore\n",
       "var _JSXTOOLS_RESIZE_OBSERVER=function(A){var t,i=new WeakMap,n=new WeakMap,a=new WeakMap,r=new WeakMap,o=new Set;function s(e){if(!(this instanceof s))throw new TypeError(\"Constructor requires 'new' operator\");i.set(this,e)}function h(){throw new TypeError(\"Function is not a constructor\")}function c(e,t,i,n){e=0 in arguments?Number(arguments[0]):0,t=1 in arguments?Number(arguments[1]):0,i=2 in arguments?Number(arguments[2]):0,n=3 in arguments?Number(arguments[3]):0,this.right=(this.x=this.left=e)+(this.width=i),this.bottom=(this.y=this.top=t)+(this.height=n),Object.freeze(this)}function d(){t=requestAnimationFrame(d);var s=new WeakMap,p=new Set;o.forEach((function(t){r.get(t).forEach((function(i){var r=t instanceof window.SVGElement,o=a.get(t),d=r?0:parseFloat(o.paddingTop),f=r?0:parseFloat(o.paddingRight),l=r?0:parseFloat(o.paddingBottom),u=r?0:parseFloat(o.paddingLeft),g=r?0:parseFloat(o.borderTopWidth),m=r?0:parseFloat(o.borderRightWidth),w=r?0:parseFloat(o.borderBottomWidth),b=u+f,F=d+l,v=(r?0:parseFloat(o.borderLeftWidth))+m,W=g+w,y=r?0:t.offsetHeight-W-t.clientHeight,E=r?0:t.offsetWidth-v-t.clientWidth,R=b+v,z=F+W,M=r?t.width:parseFloat(o.width)-R-E,O=r?t.height:parseFloat(o.height)-z-y;if(n.has(t)){var k=n.get(t);if(k[0]===M&&k[1]===O)return}n.set(t,[M,O]);var S=Object.create(h.prototype);S.target=t,S.contentRect=new c(u,d,M,O),s.has(i)||(s.set(i,[]),p.add(i)),s.get(i).push(S)}))})),p.forEach((function(e){i.get(e).call(e,s.get(e),e)}))}return s.prototype.observe=function(i){if(i instanceof window.Element){r.has(i)||(r.set(i,new Set),o.add(i),a.set(i,window.getComputedStyle(i)));var n=r.get(i);n.has(this)||n.add(this),cancelAnimationFrame(t),t=requestAnimationFrame(d)}},s.prototype.unobserve=function(i){if(i instanceof window.Element&&r.has(i)){var n=r.get(i);n.has(this)&&(n.delete(this),n.size||(r.delete(i),o.delete(i))),n.size||r.delete(i),o.size||cancelAnimationFrame(t)}},A.DOMRectReadOnly=c,A.ResizeObserver=s,A.ResizeObserverEntry=h,A}; // eslint-disable-line\n",
       "mpl.toolbar_items = [[\"Home\", \"Reset original view\", \"fa fa-home\", \"home\"], [\"Back\", \"Back to previous view\", \"fa fa-arrow-left\", \"back\"], [\"Forward\", \"Forward to next view\", \"fa fa-arrow-right\", \"forward\"], [\"\", \"\", \"\", \"\"], [\"Pan\", \"Left button pans, Right button zooms\\nx/y fixes axis, CTRL fixes aspect\", \"fa fa-arrows\", \"pan\"], [\"Zoom\", \"Zoom to rectangle\\nx/y fixes axis\", \"fa fa-square-o\", \"zoom\"], [\"\", \"\", \"\", \"\"], [\"Download\", \"Download plot\", \"fa fa-floppy-o\", \"download\"]];\n",
       "\n",
       "mpl.extensions = [\"eps\", \"jpeg\", \"pgf\", \"pdf\", \"png\", \"ps\", \"raw\", \"svg\", \"tif\", \"webp\"];\n",
       "\n",
       "mpl.default_extension = \"png\";/* global mpl */\n",
       "\n",
       "var comm_websocket_adapter = function (comm) {\n",
       "    // Create a \"websocket\"-like object which calls the given IPython comm\n",
       "    // object with the appropriate methods. Currently this is a non binary\n",
       "    // socket, so there is still some room for performance tuning.\n",
       "    var ws = {};\n",
       "\n",
       "    ws.binaryType = comm.kernel.ws.binaryType;\n",
       "    ws.readyState = comm.kernel.ws.readyState;\n",
       "    function updateReadyState(_event) {\n",
       "        if (comm.kernel.ws) {\n",
       "            ws.readyState = comm.kernel.ws.readyState;\n",
       "        } else {\n",
       "            ws.readyState = 3; // Closed state.\n",
       "        }\n",
       "    }\n",
       "    comm.kernel.ws.addEventListener('open', updateReadyState);\n",
       "    comm.kernel.ws.addEventListener('close', updateReadyState);\n",
       "    comm.kernel.ws.addEventListener('error', updateReadyState);\n",
       "\n",
       "    ws.close = function () {\n",
       "        comm.close();\n",
       "    };\n",
       "    ws.send = function (m) {\n",
       "        //console.log('sending', m);\n",
       "        comm.send(m);\n",
       "    };\n",
       "    // Register the callback with on_msg.\n",
       "    comm.on_msg(function (msg) {\n",
       "        //console.log('receiving', msg['content']['data'], msg);\n",
       "        var data = msg['content']['data'];\n",
       "        if (data['blob'] !== undefined) {\n",
       "            data = {\n",
       "                data: new Blob(msg['buffers'], { type: data['blob'] }),\n",
       "            };\n",
       "        }\n",
       "        // Pass the mpl event to the overridden (by mpl) onmessage function.\n",
       "        ws.onmessage(data);\n",
       "    });\n",
       "    return ws;\n",
       "};\n",
       "\n",
       "mpl.mpl_figure_comm = function (comm, msg) {\n",
       "    // This is the function which gets called when the mpl process\n",
       "    // starts-up an IPython Comm through the \"matplotlib\" channel.\n",
       "\n",
       "    var id = msg.content.data.id;\n",
       "    // Get hold of the div created by the display call when the Comm\n",
       "    // socket was opened in Python.\n",
       "    var element = document.getElementById(id);\n",
       "    var ws_proxy = comm_websocket_adapter(comm);\n",
       "\n",
       "    function ondownload(figure, _format) {\n",
       "        window.open(figure.canvas.toDataURL());\n",
       "    }\n",
       "\n",
       "    var fig = new mpl.figure(id, ws_proxy, ondownload, element);\n",
       "\n",
       "    // Call onopen now - mpl needs it, as it is assuming we've passed it a real\n",
       "    // web socket which is closed, not our websocket->open comm proxy.\n",
       "    ws_proxy.onopen();\n",
       "\n",
       "    fig.parent_element = element;\n",
       "    fig.cell_info = mpl.find_output_cell(\"<div id='\" + id + \"'></div>\");\n",
       "    if (!fig.cell_info) {\n",
       "        console.error('Failed to find cell for figure', id, fig);\n",
       "        return;\n",
       "    }\n",
       "    fig.cell_info[0].output_area.element.on(\n",
       "        'cleared',\n",
       "        { fig: fig },\n",
       "        fig._remove_fig_handler\n",
       "    );\n",
       "};\n",
       "\n",
       "mpl.figure.prototype.handle_close = function (fig, msg) {\n",
       "    var width = fig.canvas.width / fig.ratio;\n",
       "    fig.cell_info[0].output_area.element.off(\n",
       "        'cleared',\n",
       "        fig._remove_fig_handler\n",
       "    );\n",
       "    fig.resizeObserverInstance.unobserve(fig.canvas_div);\n",
       "\n",
       "    // Update the output cell to use the data from the current canvas.\n",
       "    fig.push_to_output();\n",
       "    var dataURL = fig.canvas.toDataURL();\n",
       "    // Re-enable the keyboard manager in IPython - without this line, in FF,\n",
       "    // the notebook keyboard shortcuts fail.\n",
       "    IPython.keyboard_manager.enable();\n",
       "    fig.parent_element.innerHTML =\n",
       "        '<img src=\"' + dataURL + '\" width=\"' + width + '\">';\n",
       "    fig.close_ws(fig, msg);\n",
       "};\n",
       "\n",
       "mpl.figure.prototype.close_ws = function (fig, msg) {\n",
       "    fig.send_message('closing', msg);\n",
       "    // fig.ws.close()\n",
       "};\n",
       "\n",
       "mpl.figure.prototype.push_to_output = function (_remove_interactive) {\n",
       "    // Turn the data on the canvas into data in the output cell.\n",
       "    var width = this.canvas.width / this.ratio;\n",
       "    var dataURL = this.canvas.toDataURL();\n",
       "    this.cell_info[1]['text/html'] =\n",
       "        '<img src=\"' + dataURL + '\" width=\"' + width + '\">';\n",
       "};\n",
       "\n",
       "mpl.figure.prototype.updated_canvas_event = function () {\n",
       "    // Tell IPython that the notebook contents must change.\n",
       "    IPython.notebook.set_dirty(true);\n",
       "    this.send_message('ack', {});\n",
       "    var fig = this;\n",
       "    // Wait a second, then push the new image to the DOM so\n",
       "    // that it is saved nicely (might be nice to debounce this).\n",
       "    setTimeout(function () {\n",
       "        fig.push_to_output();\n",
       "    }, 1000);\n",
       "};\n",
       "\n",
       "mpl.figure.prototype._init_toolbar = function () {\n",
       "    var fig = this;\n",
       "\n",
       "    var toolbar = document.createElement('div');\n",
       "    toolbar.classList = 'btn-toolbar';\n",
       "    this.root.appendChild(toolbar);\n",
       "\n",
       "    function on_click_closure(name) {\n",
       "        return function (_event) {\n",
       "            return fig.toolbar_button_onclick(name);\n",
       "        };\n",
       "    }\n",
       "\n",
       "    function on_mouseover_closure(tooltip) {\n",
       "        return function (event) {\n",
       "            if (!event.currentTarget.disabled) {\n",
       "                return fig.toolbar_button_onmouseover(tooltip);\n",
       "            }\n",
       "        };\n",
       "    }\n",
       "\n",
       "    fig.buttons = {};\n",
       "    var buttonGroup = document.createElement('div');\n",
       "    buttonGroup.classList = 'btn-group';\n",
       "    var button;\n",
       "    for (var toolbar_ind in mpl.toolbar_items) {\n",
       "        var name = mpl.toolbar_items[toolbar_ind][0];\n",
       "        var tooltip = mpl.toolbar_items[toolbar_ind][1];\n",
       "        var image = mpl.toolbar_items[toolbar_ind][2];\n",
       "        var method_name = mpl.toolbar_items[toolbar_ind][3];\n",
       "\n",
       "        if (!name) {\n",
       "            /* Instead of a spacer, we start a new button group. */\n",
       "            if (buttonGroup.hasChildNodes()) {\n",
       "                toolbar.appendChild(buttonGroup);\n",
       "            }\n",
       "            buttonGroup = document.createElement('div');\n",
       "            buttonGroup.classList = 'btn-group';\n",
       "            continue;\n",
       "        }\n",
       "\n",
       "        button = fig.buttons[name] = document.createElement('button');\n",
       "        button.classList = 'btn btn-default';\n",
       "        button.href = '#';\n",
       "        button.title = name;\n",
       "        button.innerHTML = '<i class=\"fa ' + image + ' fa-lg\"></i>';\n",
       "        button.addEventListener('click', on_click_closure(method_name));\n",
       "        button.addEventListener('mouseover', on_mouseover_closure(tooltip));\n",
       "        buttonGroup.appendChild(button);\n",
       "    }\n",
       "\n",
       "    if (buttonGroup.hasChildNodes()) {\n",
       "        toolbar.appendChild(buttonGroup);\n",
       "    }\n",
       "\n",
       "    // Add the status bar.\n",
       "    var status_bar = document.createElement('span');\n",
       "    status_bar.classList = 'mpl-message pull-right';\n",
       "    toolbar.appendChild(status_bar);\n",
       "    this.message = status_bar;\n",
       "\n",
       "    // Add the close button to the window.\n",
       "    var buttongrp = document.createElement('div');\n",
       "    buttongrp.classList = 'btn-group inline pull-right';\n",
       "    button = document.createElement('button');\n",
       "    button.classList = 'btn btn-mini btn-primary';\n",
       "    button.href = '#';\n",
       "    button.title = 'Stop Interaction';\n",
       "    button.innerHTML = '<i class=\"fa fa-power-off icon-remove icon-large\"></i>';\n",
       "    button.addEventListener('click', function (_evt) {\n",
       "        fig.handle_close(fig, {});\n",
       "    });\n",
       "    button.addEventListener(\n",
       "        'mouseover',\n",
       "        on_mouseover_closure('Stop Interaction')\n",
       "    );\n",
       "    buttongrp.appendChild(button);\n",
       "    var titlebar = this.root.querySelector('.ui-dialog-titlebar');\n",
       "    titlebar.insertBefore(buttongrp, titlebar.firstChild);\n",
       "};\n",
       "\n",
       "mpl.figure.prototype._remove_fig_handler = function (event) {\n",
       "    var fig = event.data.fig;\n",
       "    if (event.target !== this) {\n",
       "        // Ignore bubbled events from children.\n",
       "        return;\n",
       "    }\n",
       "    fig.close_ws(fig, {});\n",
       "};\n",
       "\n",
       "mpl.figure.prototype._root_extra_style = function (el) {\n",
       "    el.style.boxSizing = 'content-box'; // override notebook setting of border-box.\n",
       "};\n",
       "\n",
       "mpl.figure.prototype._canvas_extra_style = function (el) {\n",
       "    // this is important to make the div 'focusable\n",
       "    el.setAttribute('tabindex', 0);\n",
       "    // reach out to IPython and tell the keyboard manager to turn it's self\n",
       "    // off when our div gets focus\n",
       "\n",
       "    // location in version 3\n",
       "    if (IPython.notebook.keyboard_manager) {\n",
       "        IPython.notebook.keyboard_manager.register_events(el);\n",
       "    } else {\n",
       "        // location in version 2\n",
       "        IPython.keyboard_manager.register_events(el);\n",
       "    }\n",
       "};\n",
       "\n",
       "mpl.figure.prototype._key_event_extra = function (event, _name) {\n",
       "    // Check for shift+enter\n",
       "    if (event.shiftKey && event.which === 13) {\n",
       "        this.canvas_div.blur();\n",
       "        // select the cell after this one\n",
       "        var index = IPython.notebook.find_cell_index(this.cell_info[0]);\n",
       "        IPython.notebook.select(index + 1);\n",
       "    }\n",
       "};\n",
       "\n",
       "mpl.figure.prototype.handle_save = function (fig, _msg) {\n",
       "    fig.ondownload(fig, null);\n",
       "};\n",
       "\n",
       "mpl.find_output_cell = function (html_output) {\n",
       "    // Return the cell and output element which can be found *uniquely* in the notebook.\n",
       "    // Note - this is a bit hacky, but it is done because the \"notebook_saving.Notebook\"\n",
       "    // IPython event is triggered only after the cells have been serialised, which for\n",
       "    // our purposes (turning an active figure into a static one), is too late.\n",
       "    var cells = IPython.notebook.get_cells();\n",
       "    var ncells = cells.length;\n",
       "    for (var i = 0; i < ncells; i++) {\n",
       "        var cell = cells[i];\n",
       "        if (cell.cell_type === 'code') {\n",
       "            for (var j = 0; j < cell.output_area.outputs.length; j++) {\n",
       "                var data = cell.output_area.outputs[j];\n",
       "                if (data.data) {\n",
       "                    // IPython >= 3 moved mimebundle to data attribute of output\n",
       "                    data = data.data;\n",
       "                }\n",
       "                if (data['text/html'] === html_output) {\n",
       "                    return [cell, data, j];\n",
       "                }\n",
       "            }\n",
       "        }\n",
       "    }\n",
       "};\n",
       "\n",
       "// Register the function which deals with the matplotlib target/channel.\n",
       "// The kernel may be null if the page has been refreshed.\n",
       "if (IPython.notebook.kernel !== null) {\n",
       "    IPython.notebook.kernel.comm_manager.register_target(\n",
       "        'matplotlib',\n",
       "        mpl.mpl_figure_comm\n",
       "    );\n",
       "}\n"
      ],
      "text/plain": [
       "<IPython.core.display.Javascript object>"
      ]
     },
     "metadata": {},
     "output_type": "display_data"
    },
    {
     "data": {
      "text/html": [
       "<img src=\"data:image/png;base64,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\" width=\"640\">"
      ],
      "text/plain": [
       "<IPython.core.display.HTML object>"
      ]
     },
     "metadata": {},
     "output_type": "display_data"
    }
   ],
   "source": [
    "plt.scatter(X_train['temp_low'], y_train, color='g', label='Training Set')\n",
    "plt.scatter(X_test['temp_low'], y_test, color='b', label='Test Set')\n",
    "m, b = np.polyfit(X_train['temp_low'], y_pred_ml_reg, 1)\n",
    "plt.plot(X_train['temp_low'], m*X_train['temp_low']+b, color='r')\n",
    "plt.legend()\n",
    "plt.show()"
   ]
  },
  {
   "cell_type": "markdown",
   "id": "fc8b8fe4",
   "metadata": {},
   "source": [
    "### Step 05 - Calculate MSE, RMSE, MAE, and R-Squared"
   ]
  },
  {
   "cell_type": "code",
   "execution_count": 53,
   "id": "c69e9823",
   "metadata": {},
   "outputs": [],
   "source": [
    "mse_ml_reg = metrics.mean_squared_error(y_true=y_train, y_pred=y_pred_ml_reg)"
   ]
  },
  {
   "cell_type": "code",
   "execution_count": 54,
   "id": "3f2b2896",
   "metadata": {},
   "outputs": [
    {
     "data": {
      "text/plain": [
       "14630114.81482301"
      ]
     },
     "execution_count": 54,
     "metadata": {},
     "output_type": "execute_result"
    }
   ],
   "source": [
    "mse_ml_reg"
   ]
  },
  {
   "cell_type": "code",
   "execution_count": 55,
   "id": "df2d1940",
   "metadata": {},
   "outputs": [],
   "source": [
    "y_pred_null_model = np.full(y_train.shape, y_train.mean())"
   ]
  },
  {
   "cell_type": "code",
   "execution_count": 56,
   "id": "5ca54609",
   "metadata": {},
   "outputs": [],
   "source": [
    "mse_null_model = metrics.mean_squared_error(y_true=y_train, y_pred=y_pred_null_model)"
   ]
  },
  {
   "cell_type": "code",
   "execution_count": 57,
   "id": "061cb20f",
   "metadata": {},
   "outputs": [
    {
     "data": {
      "text/plain": [
       "25777196.222222224"
      ]
     },
     "execution_count": 57,
     "metadata": {},
     "output_type": "execute_result"
    }
   ],
   "source": [
    "mse_null_model"
   ]
  },
  {
   "cell_type": "code",
   "execution_count": 58,
   "id": "baec1441",
   "metadata": {},
   "outputs": [
    {
     "data": {
      "text/plain": [
       "True"
      ]
     },
     "execution_count": 58,
     "metadata": {},
     "output_type": "execute_result"
    }
   ],
   "source": [
    "mse_null_model > mse_ml_reg"
   ]
  },
  {
   "cell_type": "code",
   "execution_count": 59,
   "id": "a546e3bd",
   "metadata": {},
   "outputs": [
    {
     "data": {
      "text/plain": [
       "11147081.407399215"
      ]
     },
     "execution_count": 59,
     "metadata": {},
     "output_type": "execute_result"
    }
   ],
   "source": [
    "mse_null_model - mse_ml_reg"
   ]
  },
  {
   "cell_type": "code",
   "execution_count": 60,
   "id": "57079bd4",
   "metadata": {},
   "outputs": [],
   "source": [
    "mae_ml_reg = metrics.mean_absolute_error(y_true=y_train, y_pred=y_pred_ml_reg)"
   ]
  },
  {
   "cell_type": "code",
   "execution_count": 61,
   "id": "13033cbc",
   "metadata": {},
   "outputs": [
    {
     "data": {
      "text/plain": [
       "3380.5365173954488"
      ]
     },
     "execution_count": 61,
     "metadata": {},
     "output_type": "execute_result"
    }
   ],
   "source": [
    "mae_ml_reg"
   ]
  },
  {
   "cell_type": "code",
   "execution_count": 62,
   "id": "c5c29979",
   "metadata": {},
   "outputs": [],
   "source": [
    "rmse_ml_reg = np.sqrt(metrics.mean_squared_error(y_true=y_train, y_pred=y_pred_ml_reg))"
   ]
  },
  {
   "cell_type": "code",
   "execution_count": 63,
   "id": "5d080fa0",
   "metadata": {},
   "outputs": [
    {
     "data": {
      "text/plain": [
       "3824.9333085457856"
      ]
     },
     "execution_count": 63,
     "metadata": {},
     "output_type": "execute_result"
    }
   ],
   "source": [
    "rmse_ml_reg"
   ]
  },
  {
   "cell_type": "code",
   "execution_count": 64,
   "id": "58134d83",
   "metadata": {},
   "outputs": [],
   "source": [
    "r2_ml_reg = metrics.r2_score(y_true=y_train, y_pred=y_pred_ml_reg)"
   ]
  },
  {
   "cell_type": "code",
   "execution_count": 65,
   "id": "745687b2",
   "metadata": {},
   "outputs": [
    {
     "data": {
      "text/plain": [
       "0.43243963817094444"
      ]
     },
     "execution_count": 65,
     "metadata": {},
     "output_type": "execute_result"
    }
   ],
   "source": [
    "r2_ml_reg"
   ]
  },
  {
   "cell_type": "markdown",
   "id": "f163fcbd",
   "metadata": {},
   "source": [
    "### Step 06 - Create and Train the KNN Model with n_neighbors=12"
   ]
  },
  {
   "cell_type": "markdown",
   "id": "35d2923b",
   "metadata": {},
   "source": [
    "Originally when creating the model for Assignment #7, I followed the directions from the book `Hands-On Predictive Analytics with Python`, which suggested that I set the `n_neighbors` value to twelve. This resulted in a score of ~0.095 for this model."
   ]
  },
  {
   "cell_type": "code",
   "execution_count": 66,
   "id": "39039802",
   "metadata": {},
   "outputs": [],
   "source": [
    "knn = KNeighborsRegressor(n_neighbors=12)"
   ]
  },
  {
   "cell_type": "code",
   "execution_count": 67,
   "id": "7e53e48d",
   "metadata": {},
   "outputs": [
    {
     "data": {
      "text/html": [
       "<style>#sk-container-id-2 {color: black;}#sk-container-id-2 pre{padding: 0;}#sk-container-id-2 div.sk-toggleable {background-color: white;}#sk-container-id-2 label.sk-toggleable__label {cursor: pointer;display: block;width: 100%;margin-bottom: 0;padding: 0.3em;box-sizing: border-box;text-align: center;}#sk-container-id-2 label.sk-toggleable__label-arrow:before {content: \"▸\";float: left;margin-right: 0.25em;color: #696969;}#sk-container-id-2 label.sk-toggleable__label-arrow:hover:before {color: black;}#sk-container-id-2 div.sk-estimator:hover label.sk-toggleable__label-arrow:before {color: black;}#sk-container-id-2 div.sk-toggleable__content {max-height: 0;max-width: 0;overflow: hidden;text-align: left;background-color: #f0f8ff;}#sk-container-id-2 div.sk-toggleable__content pre {margin: 0.2em;color: black;border-radius: 0.25em;background-color: #f0f8ff;}#sk-container-id-2 input.sk-toggleable__control:checked~div.sk-toggleable__content {max-height: 200px;max-width: 100%;overflow: auto;}#sk-container-id-2 input.sk-toggleable__control:checked~label.sk-toggleable__label-arrow:before {content: \"▾\";}#sk-container-id-2 div.sk-estimator input.sk-toggleable__control:checked~label.sk-toggleable__label {background-color: #d4ebff;}#sk-container-id-2 div.sk-label input.sk-toggleable__control:checked~label.sk-toggleable__label {background-color: #d4ebff;}#sk-container-id-2 input.sk-hidden--visually {border: 0;clip: rect(1px 1px 1px 1px);clip: rect(1px, 1px, 1px, 1px);height: 1px;margin: -1px;overflow: hidden;padding: 0;position: absolute;width: 1px;}#sk-container-id-2 div.sk-estimator {font-family: monospace;background-color: #f0f8ff;border: 1px dotted black;border-radius: 0.25em;box-sizing: border-box;margin-bottom: 0.5em;}#sk-container-id-2 div.sk-estimator:hover {background-color: #d4ebff;}#sk-container-id-2 div.sk-parallel-item::after {content: \"\";width: 100%;border-bottom: 1px solid gray;flex-grow: 1;}#sk-container-id-2 div.sk-label:hover label.sk-toggleable__label {background-color: #d4ebff;}#sk-container-id-2 div.sk-serial::before {content: \"\";position: absolute;border-left: 1px solid gray;box-sizing: border-box;top: 0;bottom: 0;left: 50%;z-index: 0;}#sk-container-id-2 div.sk-serial {display: flex;flex-direction: column;align-items: center;background-color: white;padding-right: 0.2em;padding-left: 0.2em;position: relative;}#sk-container-id-2 div.sk-item {position: relative;z-index: 1;}#sk-container-id-2 div.sk-parallel {display: flex;align-items: stretch;justify-content: center;background-color: white;position: relative;}#sk-container-id-2 div.sk-item::before, #sk-container-id-2 div.sk-parallel-item::before {content: \"\";position: absolute;border-left: 1px solid gray;box-sizing: border-box;top: 0;bottom: 0;left: 50%;z-index: -1;}#sk-container-id-2 div.sk-parallel-item {display: flex;flex-direction: column;z-index: 1;position: relative;background-color: white;}#sk-container-id-2 div.sk-parallel-item:first-child::after {align-self: flex-end;width: 50%;}#sk-container-id-2 div.sk-parallel-item:last-child::after {align-self: flex-start;width: 50%;}#sk-container-id-2 div.sk-parallel-item:only-child::after {width: 0;}#sk-container-id-2 div.sk-dashed-wrapped {border: 1px dashed gray;margin: 0 0.4em 0.5em 0.4em;box-sizing: border-box;padding-bottom: 0.4em;background-color: white;}#sk-container-id-2 div.sk-label label {font-family: monospace;font-weight: bold;display: inline-block;line-height: 1.2em;}#sk-container-id-2 div.sk-label-container {text-align: center;}#sk-container-id-2 div.sk-container {/* jupyter's `normalize.less` sets `[hidden] { display: none; }` but bootstrap.min.css set `[hidden] { display: none !important; }` so we also need the `!important` here to be able to override the default hidden behavior on the sphinx rendered scikit-learn.org. See: https://github.com/scikit-learn/scikit-learn/issues/21755 */display: inline-block !important;position: relative;}#sk-container-id-2 div.sk-text-repr-fallback {display: none;}</style><div id=\"sk-container-id-2\" class=\"sk-top-container\"><div class=\"sk-text-repr-fallback\"><pre>KNeighborsRegressor(n_neighbors=12)</pre><b>In a Jupyter environment, please rerun this cell to show the HTML representation or trust the notebook. <br />On GitHub, the HTML representation is unable to render, please try loading this page with nbviewer.org.</b></div><div class=\"sk-container\" hidden><div class=\"sk-item\"><div class=\"sk-estimator sk-toggleable\"><input class=\"sk-toggleable__control sk-hidden--visually\" id=\"sk-estimator-id-2\" type=\"checkbox\" checked><label for=\"sk-estimator-id-2\" class=\"sk-toggleable__label sk-toggleable__label-arrow\">KNeighborsRegressor</label><div class=\"sk-toggleable__content\"><pre>KNeighborsRegressor(n_neighbors=12)</pre></div></div></div></div></div>"
      ],
      "text/plain": [
       "KNeighborsRegressor(n_neighbors=12)"
      ]
     },
     "execution_count": 67,
     "metadata": {},
     "output_type": "execute_result"
    }
   ],
   "source": [
    "knn.fit(X_train, y_train)"
   ]
  },
  {
   "cell_type": "code",
   "execution_count": 68,
   "id": "06844291",
   "metadata": {},
   "outputs": [],
   "source": [
    "y_pred_knn = knn.predict(X_train)"
   ]
  },
  {
   "cell_type": "code",
   "execution_count": 69,
   "id": "f2069cdd",
   "metadata": {},
   "outputs": [
    {
     "data": {
      "text/plain": [
       "0.09540009797006943"
      ]
     },
     "execution_count": 69,
     "metadata": {},
     "output_type": "execute_result"
    }
   ],
   "source": [
    "knn.score(X_test, y_test)"
   ]
  },
  {
   "cell_type": "code",
   "execution_count": 70,
   "id": "a63c0478",
   "metadata": {},
   "outputs": [],
   "source": [
    "mse_knn = metrics.mean_squared_error(y_true=y_train, y_pred=y_pred_knn)"
   ]
  },
  {
   "cell_type": "code",
   "execution_count": 71,
   "id": "1f3167e7",
   "metadata": {},
   "outputs": [
    {
     "data": {
      "text/plain": [
       "21178962.092129633"
      ]
     },
     "execution_count": 71,
     "metadata": {},
     "output_type": "execute_result"
    }
   ],
   "source": [
    "mse_knn"
   ]
  },
  {
   "cell_type": "code",
   "execution_count": 72,
   "id": "791665e0",
   "metadata": {},
   "outputs": [
    {
     "data": {
      "text/plain": [
       "True"
      ]
     },
     "execution_count": 72,
     "metadata": {},
     "output_type": "execute_result"
    }
   ],
   "source": [
    "mse_null_model > mse_knn"
   ]
  },
  {
   "cell_type": "code",
   "execution_count": 73,
   "id": "ceeedf95",
   "metadata": {},
   "outputs": [
    {
     "data": {
      "text/plain": [
       "4598234.130092591"
      ]
     },
     "execution_count": 73,
     "metadata": {},
     "output_type": "execute_result"
    }
   ],
   "source": [
    "mse_null_model - mse_knn"
   ]
  },
  {
   "cell_type": "code",
   "execution_count": 74,
   "id": "78137782",
   "metadata": {},
   "outputs": [
    {
     "data": {
      "text/plain": [
       "True"
      ]
     },
     "execution_count": 74,
     "metadata": {},
     "output_type": "execute_result"
    }
   ],
   "source": [
    "mse_knn > mse_ml_reg"
   ]
  },
  {
   "cell_type": "code",
   "execution_count": 75,
   "id": "54862f82",
   "metadata": {},
   "outputs": [
    {
     "data": {
      "text/plain": [
       "6548847.277306624"
      ]
     },
     "execution_count": 75,
     "metadata": {},
     "output_type": "execute_result"
    }
   ],
   "source": [
    "mse_knn - mse_ml_reg"
   ]
  },
  {
   "cell_type": "markdown",
   "id": "71da686f",
   "metadata": {},
   "source": [
    "### Step 07 - Hyperparameter Tuning for the KNN Model with the Default Hyperparameter Setting"
   ]
  },
  {
   "cell_type": "markdown",
   "id": "5069efdb",
   "metadata": {},
   "source": [
    "Based on this week's lesson, I now know that it is a best practice when building a model to start first with default values for the hyperparameters. For the KNN model, the default value of the hyperparameter is 5, i.e. `n_neighbors=5`:"
   ]
  },
  {
   "cell_type": "code",
   "execution_count": 76,
   "id": "25555a2f",
   "metadata": {},
   "outputs": [],
   "source": [
    "knn = KNeighborsRegressor()"
   ]
  },
  {
   "cell_type": "code",
   "execution_count": 77,
   "id": "be11dadb",
   "metadata": {},
   "outputs": [
    {
     "data": {
      "text/html": [
       "<style>#sk-container-id-3 {color: black;}#sk-container-id-3 pre{padding: 0;}#sk-container-id-3 div.sk-toggleable {background-color: white;}#sk-container-id-3 label.sk-toggleable__label {cursor: pointer;display: block;width: 100%;margin-bottom: 0;padding: 0.3em;box-sizing: border-box;text-align: center;}#sk-container-id-3 label.sk-toggleable__label-arrow:before {content: \"▸\";float: left;margin-right: 0.25em;color: #696969;}#sk-container-id-3 label.sk-toggleable__label-arrow:hover:before {color: black;}#sk-container-id-3 div.sk-estimator:hover label.sk-toggleable__label-arrow:before {color: black;}#sk-container-id-3 div.sk-toggleable__content {max-height: 0;max-width: 0;overflow: hidden;text-align: left;background-color: #f0f8ff;}#sk-container-id-3 div.sk-toggleable__content pre {margin: 0.2em;color: black;border-radius: 0.25em;background-color: #f0f8ff;}#sk-container-id-3 input.sk-toggleable__control:checked~div.sk-toggleable__content {max-height: 200px;max-width: 100%;overflow: auto;}#sk-container-id-3 input.sk-toggleable__control:checked~label.sk-toggleable__label-arrow:before {content: \"▾\";}#sk-container-id-3 div.sk-estimator input.sk-toggleable__control:checked~label.sk-toggleable__label {background-color: #d4ebff;}#sk-container-id-3 div.sk-label input.sk-toggleable__control:checked~label.sk-toggleable__label {background-color: #d4ebff;}#sk-container-id-3 input.sk-hidden--visually {border: 0;clip: rect(1px 1px 1px 1px);clip: rect(1px, 1px, 1px, 1px);height: 1px;margin: -1px;overflow: hidden;padding: 0;position: absolute;width: 1px;}#sk-container-id-3 div.sk-estimator {font-family: monospace;background-color: #f0f8ff;border: 1px dotted black;border-radius: 0.25em;box-sizing: border-box;margin-bottom: 0.5em;}#sk-container-id-3 div.sk-estimator:hover {background-color: #d4ebff;}#sk-container-id-3 div.sk-parallel-item::after {content: \"\";width: 100%;border-bottom: 1px solid gray;flex-grow: 1;}#sk-container-id-3 div.sk-label:hover label.sk-toggleable__label {background-color: #d4ebff;}#sk-container-id-3 div.sk-serial::before {content: \"\";position: absolute;border-left: 1px solid gray;box-sizing: border-box;top: 0;bottom: 0;left: 50%;z-index: 0;}#sk-container-id-3 div.sk-serial {display: flex;flex-direction: column;align-items: center;background-color: white;padding-right: 0.2em;padding-left: 0.2em;position: relative;}#sk-container-id-3 div.sk-item {position: relative;z-index: 1;}#sk-container-id-3 div.sk-parallel {display: flex;align-items: stretch;justify-content: center;background-color: white;position: relative;}#sk-container-id-3 div.sk-item::before, #sk-container-id-3 div.sk-parallel-item::before {content: \"\";position: absolute;border-left: 1px solid gray;box-sizing: border-box;top: 0;bottom: 0;left: 50%;z-index: -1;}#sk-container-id-3 div.sk-parallel-item {display: flex;flex-direction: column;z-index: 1;position: relative;background-color: white;}#sk-container-id-3 div.sk-parallel-item:first-child::after {align-self: flex-end;width: 50%;}#sk-container-id-3 div.sk-parallel-item:last-child::after {align-self: flex-start;width: 50%;}#sk-container-id-3 div.sk-parallel-item:only-child::after {width: 0;}#sk-container-id-3 div.sk-dashed-wrapped {border: 1px dashed gray;margin: 0 0.4em 0.5em 0.4em;box-sizing: border-box;padding-bottom: 0.4em;background-color: white;}#sk-container-id-3 div.sk-label label {font-family: monospace;font-weight: bold;display: inline-block;line-height: 1.2em;}#sk-container-id-3 div.sk-label-container {text-align: center;}#sk-container-id-3 div.sk-container {/* jupyter's `normalize.less` sets `[hidden] { display: none; }` but bootstrap.min.css set `[hidden] { display: none !important; }` so we also need the `!important` here to be able to override the default hidden behavior on the sphinx rendered scikit-learn.org. See: https://github.com/scikit-learn/scikit-learn/issues/21755 */display: inline-block !important;position: relative;}#sk-container-id-3 div.sk-text-repr-fallback {display: none;}</style><div id=\"sk-container-id-3\" class=\"sk-top-container\"><div class=\"sk-text-repr-fallback\"><pre>KNeighborsRegressor()</pre><b>In a Jupyter environment, please rerun this cell to show the HTML representation or trust the notebook. <br />On GitHub, the HTML representation is unable to render, please try loading this page with nbviewer.org.</b></div><div class=\"sk-container\" hidden><div class=\"sk-item\"><div class=\"sk-estimator sk-toggleable\"><input class=\"sk-toggleable__control sk-hidden--visually\" id=\"sk-estimator-id-3\" type=\"checkbox\" checked><label for=\"sk-estimator-id-3\" class=\"sk-toggleable__label sk-toggleable__label-arrow\">KNeighborsRegressor</label><div class=\"sk-toggleable__content\"><pre>KNeighborsRegressor()</pre></div></div></div></div></div>"
      ],
      "text/plain": [
       "KNeighborsRegressor()"
      ]
     },
     "execution_count": 77,
     "metadata": {},
     "output_type": "execute_result"
    }
   ],
   "source": [
    "knn.fit(X_train, y_train)"
   ]
  },
  {
   "cell_type": "code",
   "execution_count": 78,
   "id": "320ad2f6",
   "metadata": {},
   "outputs": [],
   "source": [
    "y_pred_knn = knn.predict(X_train)"
   ]
  },
  {
   "cell_type": "code",
   "execution_count": 79,
   "id": "4f9a6712",
   "metadata": {},
   "outputs": [
    {
     "data": {
      "text/plain": [
       "0.32170114779114256"
      ]
     },
     "execution_count": 79,
     "metadata": {},
     "output_type": "execute_result"
    }
   ],
   "source": [
    "knn.score(X_test, y_test)"
   ]
  },
  {
   "cell_type": "markdown",
   "id": "d2ea0160",
   "metadata": {},
   "source": [
    "We can see that by returning this single value to the default setting, the score jumps to ~0.32!"
   ]
  },
  {
   "cell_type": "markdown",
   "id": "9451913b",
   "metadata": {},
   "source": [
    "### Step 08 - Hyperparameter Tuning for the KNN Model with the Lowest Possible Hyperparameter Setting"
   ]
  },
  {
   "cell_type": "markdown",
   "id": "90e24c9d",
   "metadata": {},
   "source": [
    "For the KNN model, the lowest possible value for the `n_neighbors` hyperparameter would be `n_neighbors=1`, since 0 would cause an error:"
   ]
  },
  {
   "cell_type": "code",
   "execution_count": 80,
   "id": "f847feba",
   "metadata": {},
   "outputs": [],
   "source": [
    "knn = KNeighborsRegressor(n_neighbors=1)"
   ]
  },
  {
   "cell_type": "code",
   "execution_count": 81,
   "id": "49bff760",
   "metadata": {},
   "outputs": [
    {
     "data": {
      "text/html": [
       "<style>#sk-container-id-4 {color: black;}#sk-container-id-4 pre{padding: 0;}#sk-container-id-4 div.sk-toggleable {background-color: white;}#sk-container-id-4 label.sk-toggleable__label {cursor: pointer;display: block;width: 100%;margin-bottom: 0;padding: 0.3em;box-sizing: border-box;text-align: center;}#sk-container-id-4 label.sk-toggleable__label-arrow:before {content: \"▸\";float: left;margin-right: 0.25em;color: #696969;}#sk-container-id-4 label.sk-toggleable__label-arrow:hover:before {color: black;}#sk-container-id-4 div.sk-estimator:hover label.sk-toggleable__label-arrow:before {color: black;}#sk-container-id-4 div.sk-toggleable__content {max-height: 0;max-width: 0;overflow: hidden;text-align: left;background-color: #f0f8ff;}#sk-container-id-4 div.sk-toggleable__content pre {margin: 0.2em;color: black;border-radius: 0.25em;background-color: #f0f8ff;}#sk-container-id-4 input.sk-toggleable__control:checked~div.sk-toggleable__content {max-height: 200px;max-width: 100%;overflow: auto;}#sk-container-id-4 input.sk-toggleable__control:checked~label.sk-toggleable__label-arrow:before {content: \"▾\";}#sk-container-id-4 div.sk-estimator input.sk-toggleable__control:checked~label.sk-toggleable__label {background-color: #d4ebff;}#sk-container-id-4 div.sk-label input.sk-toggleable__control:checked~label.sk-toggleable__label {background-color: #d4ebff;}#sk-container-id-4 input.sk-hidden--visually {border: 0;clip: rect(1px 1px 1px 1px);clip: rect(1px, 1px, 1px, 1px);height: 1px;margin: -1px;overflow: hidden;padding: 0;position: absolute;width: 1px;}#sk-container-id-4 div.sk-estimator {font-family: monospace;background-color: #f0f8ff;border: 1px dotted black;border-radius: 0.25em;box-sizing: border-box;margin-bottom: 0.5em;}#sk-container-id-4 div.sk-estimator:hover {background-color: #d4ebff;}#sk-container-id-4 div.sk-parallel-item::after {content: \"\";width: 100%;border-bottom: 1px solid gray;flex-grow: 1;}#sk-container-id-4 div.sk-label:hover label.sk-toggleable__label {background-color: #d4ebff;}#sk-container-id-4 div.sk-serial::before {content: \"\";position: absolute;border-left: 1px solid gray;box-sizing: border-box;top: 0;bottom: 0;left: 50%;z-index: 0;}#sk-container-id-4 div.sk-serial {display: flex;flex-direction: column;align-items: center;background-color: white;padding-right: 0.2em;padding-left: 0.2em;position: relative;}#sk-container-id-4 div.sk-item {position: relative;z-index: 1;}#sk-container-id-4 div.sk-parallel {display: flex;align-items: stretch;justify-content: center;background-color: white;position: relative;}#sk-container-id-4 div.sk-item::before, #sk-container-id-4 div.sk-parallel-item::before {content: \"\";position: absolute;border-left: 1px solid gray;box-sizing: border-box;top: 0;bottom: 0;left: 50%;z-index: -1;}#sk-container-id-4 div.sk-parallel-item {display: flex;flex-direction: column;z-index: 1;position: relative;background-color: white;}#sk-container-id-4 div.sk-parallel-item:first-child::after {align-self: flex-end;width: 50%;}#sk-container-id-4 div.sk-parallel-item:last-child::after {align-self: flex-start;width: 50%;}#sk-container-id-4 div.sk-parallel-item:only-child::after {width: 0;}#sk-container-id-4 div.sk-dashed-wrapped {border: 1px dashed gray;margin: 0 0.4em 0.5em 0.4em;box-sizing: border-box;padding-bottom: 0.4em;background-color: white;}#sk-container-id-4 div.sk-label label {font-family: monospace;font-weight: bold;display: inline-block;line-height: 1.2em;}#sk-container-id-4 div.sk-label-container {text-align: center;}#sk-container-id-4 div.sk-container {/* jupyter's `normalize.less` sets `[hidden] { display: none; }` but bootstrap.min.css set `[hidden] { display: none !important; }` so we also need the `!important` here to be able to override the default hidden behavior on the sphinx rendered scikit-learn.org. See: https://github.com/scikit-learn/scikit-learn/issues/21755 */display: inline-block !important;position: relative;}#sk-container-id-4 div.sk-text-repr-fallback {display: none;}</style><div id=\"sk-container-id-4\" class=\"sk-top-container\"><div class=\"sk-text-repr-fallback\"><pre>KNeighborsRegressor(n_neighbors=1)</pre><b>In a Jupyter environment, please rerun this cell to show the HTML representation or trust the notebook. <br />On GitHub, the HTML representation is unable to render, please try loading this page with nbviewer.org.</b></div><div class=\"sk-container\" hidden><div class=\"sk-item\"><div class=\"sk-estimator sk-toggleable\"><input class=\"sk-toggleable__control sk-hidden--visually\" id=\"sk-estimator-id-4\" type=\"checkbox\" checked><label for=\"sk-estimator-id-4\" class=\"sk-toggleable__label sk-toggleable__label-arrow\">KNeighborsRegressor</label><div class=\"sk-toggleable__content\"><pre>KNeighborsRegressor(n_neighbors=1)</pre></div></div></div></div></div>"
      ],
      "text/plain": [
       "KNeighborsRegressor(n_neighbors=1)"
      ]
     },
     "execution_count": 81,
     "metadata": {},
     "output_type": "execute_result"
    }
   ],
   "source": [
    "knn.fit(X_train, y_train)"
   ]
  },
  {
   "cell_type": "code",
   "execution_count": 82,
   "id": "145224f6",
   "metadata": {},
   "outputs": [],
   "source": [
    "y_pred_knn = knn.predict(X_train)"
   ]
  },
  {
   "cell_type": "code",
   "execution_count": 83,
   "id": "a9496550",
   "metadata": {},
   "outputs": [
    {
     "data": {
      "text/plain": [
       "0.3828162709566427"
      ]
     },
     "execution_count": 83,
     "metadata": {},
     "output_type": "execute_result"
    }
   ],
   "source": [
    "knn.score(X_test, y_test)"
   ]
  },
  {
   "cell_type": "code",
   "execution_count": 84,
   "id": "67ebbe92",
   "metadata": {},
   "outputs": [],
   "source": [
    "mse_knn = metrics.mean_squared_error(y_true=y_train, y_pred=y_pred_knn)"
   ]
  },
  {
   "cell_type": "code",
   "execution_count": 85,
   "id": "d7b539c1",
   "metadata": {},
   "outputs": [
    {
     "data": {
      "text/plain": [
       "12578628.133333333"
      ]
     },
     "execution_count": 85,
     "metadata": {},
     "output_type": "execute_result"
    }
   ],
   "source": [
    "mse_knn"
   ]
  },
  {
   "cell_type": "markdown",
   "id": "5789b022",
   "metadata": {},
   "source": [
    "We can see that by tuning the `n_neighbors` value to 1, the score jumps to ~0.38!"
   ]
  },
  {
   "cell_type": "markdown",
   "id": "2a50d5f0",
   "metadata": {},
   "source": [
    "### Step 09 - Hyperparameter Tuning for the KNN Model with the Highest Possible Hyperparameter Setting"
   ]
  },
  {
   "cell_type": "markdown",
   "id": "e46d4018",
   "metadata": {},
   "source": [
    "For the KNN model, the highest possible value for the `n_neighbors` hyperparameter would be `n_neighbors=15`, since anything higher would cause an error:"
   ]
  },
  {
   "cell_type": "code",
   "execution_count": 86,
   "id": "33a10ba0",
   "metadata": {},
   "outputs": [],
   "source": [
    "knn = KNeighborsRegressor(n_neighbors=15)"
   ]
  },
  {
   "cell_type": "code",
   "execution_count": 87,
   "id": "69b7d9a3",
   "metadata": {},
   "outputs": [
    {
     "data": {
      "text/html": [
       "<style>#sk-container-id-5 {color: black;}#sk-container-id-5 pre{padding: 0;}#sk-container-id-5 div.sk-toggleable {background-color: white;}#sk-container-id-5 label.sk-toggleable__label {cursor: pointer;display: block;width: 100%;margin-bottom: 0;padding: 0.3em;box-sizing: border-box;text-align: center;}#sk-container-id-5 label.sk-toggleable__label-arrow:before {content: \"▸\";float: left;margin-right: 0.25em;color: #696969;}#sk-container-id-5 label.sk-toggleable__label-arrow:hover:before {color: black;}#sk-container-id-5 div.sk-estimator:hover label.sk-toggleable__label-arrow:before {color: black;}#sk-container-id-5 div.sk-toggleable__content {max-height: 0;max-width: 0;overflow: hidden;text-align: left;background-color: #f0f8ff;}#sk-container-id-5 div.sk-toggleable__content pre {margin: 0.2em;color: black;border-radius: 0.25em;background-color: #f0f8ff;}#sk-container-id-5 input.sk-toggleable__control:checked~div.sk-toggleable__content {max-height: 200px;max-width: 100%;overflow: auto;}#sk-container-id-5 input.sk-toggleable__control:checked~label.sk-toggleable__label-arrow:before {content: \"▾\";}#sk-container-id-5 div.sk-estimator input.sk-toggleable__control:checked~label.sk-toggleable__label {background-color: #d4ebff;}#sk-container-id-5 div.sk-label input.sk-toggleable__control:checked~label.sk-toggleable__label {background-color: #d4ebff;}#sk-container-id-5 input.sk-hidden--visually {border: 0;clip: rect(1px 1px 1px 1px);clip: rect(1px, 1px, 1px, 1px);height: 1px;margin: -1px;overflow: hidden;padding: 0;position: absolute;width: 1px;}#sk-container-id-5 div.sk-estimator {font-family: monospace;background-color: #f0f8ff;border: 1px dotted black;border-radius: 0.25em;box-sizing: border-box;margin-bottom: 0.5em;}#sk-container-id-5 div.sk-estimator:hover {background-color: #d4ebff;}#sk-container-id-5 div.sk-parallel-item::after {content: \"\";width: 100%;border-bottom: 1px solid gray;flex-grow: 1;}#sk-container-id-5 div.sk-label:hover label.sk-toggleable__label {background-color: #d4ebff;}#sk-container-id-5 div.sk-serial::before {content: \"\";position: absolute;border-left: 1px solid gray;box-sizing: border-box;top: 0;bottom: 0;left: 50%;z-index: 0;}#sk-container-id-5 div.sk-serial {display: flex;flex-direction: column;align-items: center;background-color: white;padding-right: 0.2em;padding-left: 0.2em;position: relative;}#sk-container-id-5 div.sk-item {position: relative;z-index: 1;}#sk-container-id-5 div.sk-parallel {display: flex;align-items: stretch;justify-content: center;background-color: white;position: relative;}#sk-container-id-5 div.sk-item::before, #sk-container-id-5 div.sk-parallel-item::before {content: \"\";position: absolute;border-left: 1px solid gray;box-sizing: border-box;top: 0;bottom: 0;left: 50%;z-index: -1;}#sk-container-id-5 div.sk-parallel-item {display: flex;flex-direction: column;z-index: 1;position: relative;background-color: white;}#sk-container-id-5 div.sk-parallel-item:first-child::after {align-self: flex-end;width: 50%;}#sk-container-id-5 div.sk-parallel-item:last-child::after {align-self: flex-start;width: 50%;}#sk-container-id-5 div.sk-parallel-item:only-child::after {width: 0;}#sk-container-id-5 div.sk-dashed-wrapped {border: 1px dashed gray;margin: 0 0.4em 0.5em 0.4em;box-sizing: border-box;padding-bottom: 0.4em;background-color: white;}#sk-container-id-5 div.sk-label label {font-family: monospace;font-weight: bold;display: inline-block;line-height: 1.2em;}#sk-container-id-5 div.sk-label-container {text-align: center;}#sk-container-id-5 div.sk-container {/* jupyter's `normalize.less` sets `[hidden] { display: none; }` but bootstrap.min.css set `[hidden] { display: none !important; }` so we also need the `!important` here to be able to override the default hidden behavior on the sphinx rendered scikit-learn.org. See: https://github.com/scikit-learn/scikit-learn/issues/21755 */display: inline-block !important;position: relative;}#sk-container-id-5 div.sk-text-repr-fallback {display: none;}</style><div id=\"sk-container-id-5\" class=\"sk-top-container\"><div class=\"sk-text-repr-fallback\"><pre>KNeighborsRegressor(n_neighbors=15)</pre><b>In a Jupyter environment, please rerun this cell to show the HTML representation or trust the notebook. <br />On GitHub, the HTML representation is unable to render, please try loading this page with nbviewer.org.</b></div><div class=\"sk-container\" hidden><div class=\"sk-item\"><div class=\"sk-estimator sk-toggleable\"><input class=\"sk-toggleable__control sk-hidden--visually\" id=\"sk-estimator-id-5\" type=\"checkbox\" checked><label for=\"sk-estimator-id-5\" class=\"sk-toggleable__label sk-toggleable__label-arrow\">KNeighborsRegressor</label><div class=\"sk-toggleable__content\"><pre>KNeighborsRegressor(n_neighbors=15)</pre></div></div></div></div></div>"
      ],
      "text/plain": [
       "KNeighborsRegressor(n_neighbors=15)"
      ]
     },
     "execution_count": 87,
     "metadata": {},
     "output_type": "execute_result"
    }
   ],
   "source": [
    "knn.fit(X_train, y_train)"
   ]
  },
  {
   "cell_type": "code",
   "execution_count": 88,
   "id": "8015c304",
   "metadata": {},
   "outputs": [],
   "source": [
    "y_pred_knn = knn.predict(X_train)"
   ]
  },
  {
   "cell_type": "code",
   "execution_count": 89,
   "id": "e0036f16",
   "metadata": {},
   "outputs": [
    {
     "data": {
      "text/plain": [
       "-0.012038813595488529"
      ]
     },
     "execution_count": 89,
     "metadata": {},
     "output_type": "execute_result"
    }
   ],
   "source": [
    "knn.score(X_test, y_test)"
   ]
  },
  {
   "cell_type": "code",
   "execution_count": 90,
   "id": "e7c77f99",
   "metadata": {},
   "outputs": [],
   "source": [
    "mse_knn = metrics.mean_squared_error(y_true=y_train, y_pred=y_pred_knn)"
   ]
  },
  {
   "cell_type": "code",
   "execution_count": 91,
   "id": "89f71125",
   "metadata": {},
   "outputs": [
    {
     "data": {
      "text/plain": [
       "25777196.222222224"
      ]
     },
     "execution_count": 91,
     "metadata": {},
     "output_type": "execute_result"
    }
   ],
   "source": [
    "mse_knn"
   ]
  },
  {
   "cell_type": "code",
   "execution_count": 92,
   "id": "c6069f30",
   "metadata": {},
   "outputs": [
    {
     "data": {
      "text/plain": [
       "25777196.222222224"
      ]
     },
     "execution_count": 92,
     "metadata": {},
     "output_type": "execute_result"
    }
   ],
   "source": [
    "mse_null_model"
   ]
  },
  {
   "cell_type": "markdown",
   "id": "7d6ea524",
   "metadata": {},
   "source": [
    "We can see that by setting the `n_neighbors` value to 15, the score drops to ~(-0.012), which is both a negative value, and a considerable difference from our highest score!"
   ]
  },
  {
   "cell_type": "markdown",
   "id": "a6e1a274",
   "metadata": {},
   "source": [
    "### Step 10 - Conclusion"
   ]
  },
  {
   "cell_type": "markdown",
   "id": "23f753d0",
   "metadata": {},
   "source": [
    "After iterating through every possbile hyperparameter value from 1 through 15, `n_neighbors=1` set the score to the highest value of `~0.38` with a Mean Square Error of `12578628.133333333` which is actually lower than the Mean Square Error of the Linear Regression, while `n_neighbors=15` changed set the score to the lowest value of `~(-0.012)`, with a Mean Squared Error of `25777196.222222224` that is actually equal to the null Mean Squared Error!"
   ]
  }
 ],
 "metadata": {
  "kernelspec": {
   "display_name": "Python 3 (ipykernel)",
   "language": "python",
   "name": "python3"
  },
  "language_info": {
   "codemirror_mode": {
    "name": "ipython",
    "version": 3
   },
   "file_extension": ".py",
   "mimetype": "text/x-python",
   "name": "python",
   "nbconvert_exporter": "python",
   "pygments_lexer": "ipython3",
   "version": "3.10.9"
  }
 },
 "nbformat": 4,
 "nbformat_minor": 5
}
